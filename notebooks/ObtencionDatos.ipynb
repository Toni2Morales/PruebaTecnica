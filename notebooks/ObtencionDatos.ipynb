{
 "cells": [
  {
   "cell_type": "code",
   "execution_count": 181,
   "metadata": {},
   "outputs": [],
   "source": [
    "import pandas as pd\n",
    "import numpy as np\n",
    "import requests as rq\n",
    "import sqlite3"
   ]
  },
  {
   "cell_type": "code",
   "execution_count": 5,
   "metadata": {},
   "outputs": [],
   "source": [
    "keys = pd.read_json(\"keys.json\", orient = \"index\")"
   ]
  },
  {
   "cell_type": "code",
   "execution_count": 14,
   "metadata": {},
   "outputs": [
    {
     "data": {
      "text/plain": [
       "'AAAAAAAAAAAAAAAAAAAAAHCuhwEAAAAAA%2FMz1azqVTNRZwj7d5ahqQbtOaA%3Drkw7xbgzcDF0tOwOq0bhrsWD3FZEIwQz1x7xA7AA0O3fd0mKD8'"
      ]
     },
     "execution_count": 14,
     "metadata": {},
     "output_type": "execute_result"
    }
   ],
   "source": [
    "keys.loc[\"BEARERtoken\"][0]"
   ]
  },
  {
   "cell_type": "code",
   "execution_count": null,
   "metadata": {},
   "outputs": [],
   "source": [
    "https://api.twitter.com/2/tweets?ids=1576846293179457536&tweet.fields=text"
   ]
  },
  {
   "cell_type": "code",
   "execution_count": 167,
   "metadata": {},
   "outputs": [],
   "source": [
    "request_id = rq.get(url = \"https://api.twitter.com/2/users/by/username/TheBridge_Tech?user.fields=id\",headers={\"Authorization\": r\"Bearer AAAAAAAAAAAAAAAAAAAAAHCuhwEAAAAAA%2FMz1azqVTNRZwj7d5ahqQbtOaA%3Drkw7xbgzcDF0tOwOq0bhrsWD3FZEIwQz1x7xA7AA0O3fd0mKD8\"})"
   ]
  },
  {
   "cell_type": "code",
   "execution_count": 171,
   "metadata": {},
   "outputs": [
    {
     "data": {
      "text/plain": [
       "{'data': {'id': '1162694149956603904',\n",
       "  'name': 'The Bridge',\n",
       "  'username': 'TheBridge_Tech'}}"
      ]
     },
     "execution_count": 171,
     "metadata": {},
     "output_type": "execute_result"
    }
   ],
   "source": [
    "request_id.json()"
   ]
  },
  {
   "cell_type": "code",
   "execution_count": 125,
   "metadata": {},
   "outputs": [],
   "source": [
    "request1 = rq.get(url = \"https://api.twitter.com/2/users/1162694149956603904/mentions?max_results=100&start_time=2022-06-13T09:00:00.000Z&end_time=2022-10-05T15:00:00.000Z&tweet.fields=created_at,id,public_metrics&expansions=referenced_tweets.id,referenced_tweets.id.author_id&user.fields=id,name,username\",headers={\"Authorization\": r\"Bearer AAAAAAAAAAAAAAAAAAAAAHCuhwEAAAAAA%2FMz1azqVTNRZwj7d5ahqQbtOaA%3Drkw7xbgzcDF0tOwOq0bhrsWD3FZEIwQz1x7xA7AA0O3fd0mKD8\"})"
   ]
  },
  {
   "cell_type": "code",
   "execution_count": 126,
   "metadata": {},
   "outputs": [],
   "source": [
    "request2 = rq.get(url = \"https://api.twitter.com/2/users/1162694149956603904/mentions?max_results=100&start_time=2022-06-13T09:00:00.000Z&end_time=2022-10-05T15:00:00.000Z&tweet.fields=created_at,id,public_metrics&expansions=referenced_tweets.id,referenced_tweets.id.author_id&user.fields=id,name,username&pagination_token=7140dibdnow9c7btw422882cedbrvltmlu2xyuumzros7\",headers={\"Authorization\": r\"Bearer AAAAAAAAAAAAAAAAAAAAAHCuhwEAAAAAA%2FMz1azqVTNRZwj7d5ahqQbtOaA%3Drkw7xbgzcDF0tOwOq0bhrsWD3FZEIwQz1x7xA7AA0O3fd0mKD8\"})"
   ]
  },
  {
   "cell_type": "code",
   "execution_count": 396,
   "metadata": {},
   "outputs": [],
   "source": [
    "lista = []\n",
    "for x in range(len(request1.json()[\"data\"])):\n",
    "    lista.append(request1.json()[\"data\"][x][\"author_id\"])"
   ]
  },
  {
   "cell_type": "code",
   "execution_count": 405,
   "metadata": {},
   "outputs": [],
   "source": [
    "lista = []\n",
    "for x in range(len(request2.json()[\"data\"])):\n",
    "    lista.append(request2.json()[\"data\"][x][\"author_id\"])"
   ]
  },
  {
   "cell_type": "code",
   "execution_count": 408,
   "metadata": {},
   "outputs": [],
   "source": [
    "url = \"https://api.twitter.com/2/users?ids={}&user.fields=id,name,username\".format(lista)"
   ]
  },
  {
   "cell_type": "code",
   "execution_count": 409,
   "metadata": {},
   "outputs": [],
   "source": [
    "url = url.replace(\"'\", \"\").replace(\"[\", \"\").replace(\"]\", \"\").replace(\" \", \"\")"
   ]
  },
  {
   "cell_type": "code",
   "execution_count": 410,
   "metadata": {},
   "outputs": [],
   "source": [
    "requestauthor1= rq.get(url = url,headers={\"Authorization\": r\"Bearer AAAAAAAAAAAAAAAAAAAAAHCuhwEAAAAAA%2FMz1azqVTNRZwj7d5ahqQbtOaA%3Drkw7xbgzcDF0tOwOq0bhrsWD3FZEIwQz1x7xA7AA0O3fd0mKD8\"})"
   ]
  },
  {
   "cell_type": "code",
   "execution_count": 400,
   "metadata": {},
   "outputs": [],
   "source": [
    "userdata = requestauthor1.json()[\"data\"]"
   ]
  },
  {
   "cell_type": "code",
   "execution_count": 412,
   "metadata": {},
   "outputs": [],
   "source": [
    "for x in requestauthor1.json()[\"data\"]:\n",
    "    userdata.append(x)"
   ]
  },
  {
   "cell_type": "code",
   "execution_count": 413,
   "metadata": {},
   "outputs": [
    {
     "data": {
      "text/plain": [
       "152"
      ]
     },
     "execution_count": 413,
     "metadata": {},
     "output_type": "execute_result"
    }
   ],
   "source": [
    "len(userdata)"
   ]
  },
  {
   "cell_type": "code",
   "execution_count": 137,
   "metadata": {},
   "outputs": [
    {
     "data": {
      "text/plain": [
       "dict_keys(['data', 'includes', 'errors', 'meta'])"
      ]
     },
     "execution_count": 137,
     "metadata": {},
     "output_type": "execute_result"
    }
   ],
   "source": [
    "request1.json().keys()"
   ]
  },
  {
   "cell_type": "markdown",
   "metadata": {},
   "source": [
    "## Datos a meter en la BD"
   ]
  },
  {
   "cell_type": "code",
   "execution_count": 141,
   "metadata": {},
   "outputs": [
    {
     "data": {
      "text/plain": [
       "'1577334577701453827'"
      ]
     },
     "execution_count": 141,
     "metadata": {},
     "output_type": "execute_result"
    }
   ],
   "source": [
    "request1.json()[\"data\"][0][\"id\"]"
   ]
  },
  {
   "cell_type": "code",
   "execution_count": 144,
   "metadata": {},
   "outputs": [
    {
     "data": {
      "text/plain": [
       "'Recordaros que la semana que viene tenemos la primera quedada #CPS en Madrid, en @TheBridge_Tech, en el que tendremos la gran suerte de contar con @Recuenco para que nos dé una charla. Las plazas se han agotado, pero os podéis apuntar al grupo para próximas quedadas 🚀'"
      ]
     },
     "execution_count": 144,
     "metadata": {},
     "output_type": "execute_result"
    }
   ],
   "source": [
    "request1.json()[\"data\"][0][\"text\"]"
   ]
  },
  {
   "cell_type": "code",
   "execution_count": 150,
   "metadata": {},
   "outputs": [
    {
     "data": {
      "text/plain": [
       "'2022-10-04T16:27:23.000Z'"
      ]
     },
     "execution_count": 150,
     "metadata": {},
     "output_type": "execute_result"
    }
   ],
   "source": [
    "request1.json()[\"data\"][0][\"created_at\"]"
   ]
  },
  {
   "cell_type": "code",
   "execution_count": 231,
   "metadata": {},
   "outputs": [
    {
     "data": {
      "text/plain": [
       "'1003872445'"
      ]
     },
     "execution_count": 231,
     "metadata": {},
     "output_type": "execute_result"
    }
   ],
   "source": [
    "request1.json()[\"data\"][0][\"author_id\"]"
   ]
  },
  {
   "cell_type": "code",
   "execution_count": 417,
   "metadata": {},
   "outputs": [
    {
     "data": {
      "text/plain": [
       "'1003872445'"
      ]
     },
     "execution_count": 417,
     "metadata": {},
     "output_type": "execute_result"
    }
   ],
   "source": [
    "userdata[0][\"id\"]"
   ]
  },
  {
   "cell_type": "code",
   "execution_count": 418,
   "metadata": {},
   "outputs": [
    {
     "data": {
      "text/plain": [
       "'Pau Mugarra'"
      ]
     },
     "execution_count": 418,
     "metadata": {},
     "output_type": "execute_result"
    }
   ],
   "source": [
    "userdata[0][\"name\"]"
   ]
  },
  {
   "cell_type": "code",
   "execution_count": 419,
   "metadata": {},
   "outputs": [
    {
     "data": {
      "text/plain": [
       "'PauMugarra'"
      ]
     },
     "execution_count": 419,
     "metadata": {},
     "output_type": "execute_result"
    }
   ],
   "source": [
    "userdata[0][\"username\"]"
   ]
  },
  {
   "cell_type": "code",
   "execution_count": 166,
   "metadata": {},
   "outputs": [
    {
     "data": {
      "text/plain": [
       "{'retweet_count': 2, 'reply_count': 0, 'like_count': 12, 'quote_count': 0}"
      ]
     },
     "execution_count": 166,
     "metadata": {},
     "output_type": "execute_result"
    }
   ],
   "source": [
    "request1.json()[\"data\"][0][\"public_metrics\"]"
   ]
  },
  {
   "cell_type": "code",
   "execution_count": 188,
   "metadata": {},
   "outputs": [
    {
     "data": {
      "text/plain": [
       "100"
      ]
     },
     "execution_count": 188,
     "metadata": {},
     "output_type": "execute_result"
    }
   ],
   "source": [
    "len(request1.json()[\"data\"])"
   ]
  },
  {
   "cell_type": "markdown",
   "metadata": {},
   "source": [
    "-----"
   ]
  },
  {
   "cell_type": "markdown",
   "metadata": {},
   "source": [
    "## listas"
   ]
  },
  {
   "cell_type": "code",
   "execution_count": 420,
   "metadata": {},
   "outputs": [],
   "source": [
    "id_tweet = [request1.json()[\"data\"][x][\"id\"] for x in range(len(request1.json()[\"data\"]))]\n",
    "for x in range(len(request2.json()[\"data\"])):\n",
    "    id_tweet.append(request2.json()[\"data\"][x][\"id\"])"
   ]
  },
  {
   "cell_type": "code",
   "execution_count": 421,
   "metadata": {},
   "outputs": [],
   "source": [
    "mensaje_tweet = [request1.json()[\"data\"][x][\"text\"] for x in range(len(request1.json()[\"data\"]))]\n",
    "for x in range(len(request2.json()[\"data\"])):\n",
    "    mensaje_tweet.append(request2.json()[\"data\"][x][\"text\"])"
   ]
  },
  {
   "cell_type": "code",
   "execution_count": 422,
   "metadata": {},
   "outputs": [],
   "source": [
    "fecha_tweet = [request1.json()[\"data\"][x][\"created_at\"] for x in range(len(request1.json()[\"data\"]))]\n",
    "for x in range(len(request2.json()[\"data\"])):\n",
    "    fecha_tweet.append(request2.json()[\"data\"][x][\"created_at\"])"
   ]
  },
  {
   "cell_type": "code",
   "execution_count": 423,
   "metadata": {},
   "outputs": [],
   "source": [
    "author_tweet = [request1.json()[\"data\"][x][\"author_id\"] for x in range(len(request1.json()[\"data\"]))]\n",
    "for x in range(len(request2.json()[\"data\"])):\n",
    "    author_tweet.append(request2.json()[\"data\"][x][\"author_id\"])"
   ]
  },
  {
   "cell_type": "code",
   "execution_count": 424,
   "metadata": {},
   "outputs": [],
   "source": [
    "public_metrics_tweet  = [request1.json()[\"data\"][x][\"public_metrics\"] for x in range(len(request1.json()[\"data\"]))]\n",
    "for x in range(len(request2.json()[\"data\"])):\n",
    "    public_metrics_tweet .append(request2.json()[\"data\"][x][\"public_metrics\"])"
   ]
  },
  {
   "cell_type": "code",
   "execution_count": 442,
   "metadata": {},
   "outputs": [],
   "source": [
    "retweet_count = [public_metrics_tweet[x][\"retweet_count\"] for x in range(len(public_metrics_tweet))]\n",
    "reply_count = [public_metrics_tweet[x][\"reply_count\"] for x in range(len(public_metrics_tweet))]\n",
    "like_count = [public_metrics_tweet[x][\"like_count\"] for x in range(len(public_metrics_tweet))]\n",
    "quote_count = [public_metrics_tweet[x][\"quote_count\"] for x in range(len(public_metrics_tweet))]"
   ]
  },
  {
   "cell_type": "code",
   "execution_count": 429,
   "metadata": {},
   "outputs": [],
   "source": [
    "id_user  = [userdata[x][\"id\"] for x in range(len(userdata))]\n",
    "name_user  = [userdata[x][\"name\"] for x in range(len(userdata))]\n",
    "username_user  = [userdata[x][\"username\"] for x in range(len(userdata))]"
   ]
  },
  {
   "cell_type": "markdown",
   "metadata": {},
   "source": [
    "-------------"
   ]
  },
  {
   "cell_type": "code",
   "execution_count": 447,
   "metadata": {},
   "outputs": [],
   "source": [
    "tabla1 = pd.DataFrame({\"id_tweet\":id_tweet, \"mensaje_tweet\":mensaje_tweet, \"fecha_tweet\":fecha_tweet, \"author_tweet\":author_tweet, \n",
    "\"retweet_count\":retweet_count, \"reply_count\":reply_count, \"like_count\":like_count, \"quote_count\":quote_count})"
   ]
  },
  {
   "cell_type": "code",
   "execution_count": 449,
   "metadata": {},
   "outputs": [],
   "source": [
    "tabla2 = pd.DataFrame({\"id_user\":id_user, \"name_user\":name_user, \"username_user\":username_user})"
   ]
  },
  {
   "cell_type": "code",
   "execution_count": 450,
   "metadata": {},
   "outputs": [
    {
     "data": {
      "text/html": [
       "<div>\n",
       "<style scoped>\n",
       "    .dataframe tbody tr th:only-of-type {\n",
       "        vertical-align: middle;\n",
       "    }\n",
       "\n",
       "    .dataframe tbody tr th {\n",
       "        vertical-align: top;\n",
       "    }\n",
       "\n",
       "    .dataframe thead th {\n",
       "        text-align: right;\n",
       "    }\n",
       "</style>\n",
       "<table border=\"1\" class=\"dataframe\">\n",
       "  <thead>\n",
       "    <tr style=\"text-align: right;\">\n",
       "      <th></th>\n",
       "      <th>id_user</th>\n",
       "      <th>name_user</th>\n",
       "      <th>username_user</th>\n",
       "    </tr>\n",
       "  </thead>\n",
       "  <tbody>\n",
       "    <tr>\n",
       "      <th>0</th>\n",
       "      <td>1003872445</td>\n",
       "      <td>Pau Mugarra</td>\n",
       "      <td>PauMugarra</td>\n",
       "    </tr>\n",
       "    <tr>\n",
       "      <th>1</th>\n",
       "      <td>2529499620</td>\n",
       "      <td>Formación Fundación Universidad Carlos III</td>\n",
       "      <td>formacion_fuc3</td>\n",
       "    </tr>\n",
       "    <tr>\n",
       "      <th>2</th>\n",
       "      <td>706520411551494145</td>\n",
       "      <td>JoseSola</td>\n",
       "      <td>Jose_Sola_</td>\n",
       "    </tr>\n",
       "    <tr>\n",
       "      <th>3</th>\n",
       "      <td>604485175</td>\n",
       "      <td>Berta Otero</td>\n",
       "      <td>bertinha84</td>\n",
       "    </tr>\n",
       "    <tr>\n",
       "      <th>4</th>\n",
       "      <td>1391838162830385165</td>\n",
       "      <td>Apiux Tecnología</td>\n",
       "      <td>Apiuxtecnologia</td>\n",
       "    </tr>\n",
       "    <tr>\n",
       "      <th>...</th>\n",
       "      <td>...</td>\n",
       "      <td>...</td>\n",
       "      <td>...</td>\n",
       "    </tr>\n",
       "    <tr>\n",
       "      <th>147</th>\n",
       "      <td>962578275162869760</td>\n",
       "      <td>Jairo P</td>\n",
       "      <td>PesetJairo</td>\n",
       "    </tr>\n",
       "    <tr>\n",
       "      <th>148</th>\n",
       "      <td>18955785</td>\n",
       "      <td>Javi Pérez ⚡ 😎 Learning by doing. 🦾 💻 📚 🚀</td>\n",
       "      <td>JaviMostoles</td>\n",
       "    </tr>\n",
       "    <tr>\n",
       "      <th>149</th>\n",
       "      <td>15521945</td>\n",
       "      <td>Bill Murphy</td>\n",
       "      <td>wmurphy</td>\n",
       "    </tr>\n",
       "    <tr>\n",
       "      <th>150</th>\n",
       "      <td>10614452</td>\n",
       "      <td>Pablo J. Contreras.</td>\n",
       "      <td>pcontrer</td>\n",
       "    </tr>\n",
       "    <tr>\n",
       "      <th>151</th>\n",
       "      <td>1255794072280842240</td>\n",
       "      <td>Heavy Mental</td>\n",
       "      <td>HeavyMental_es</td>\n",
       "    </tr>\n",
       "  </tbody>\n",
       "</table>\n",
       "<p>152 rows × 3 columns</p>\n",
       "</div>"
      ],
      "text/plain": [
       "                 id_user                                   name_user  \\\n",
       "0             1003872445                                 Pau Mugarra   \n",
       "1             2529499620  Formación Fundación Universidad Carlos III   \n",
       "2     706520411551494145                                    JoseSola   \n",
       "3              604485175                                 Berta Otero   \n",
       "4    1391838162830385165                            Apiux Tecnología   \n",
       "..                   ...                                         ...   \n",
       "147   962578275162869760                                     Jairo P   \n",
       "148             18955785   Javi Pérez ⚡ 😎 Learning by doing. 🦾 💻 📚 🚀   \n",
       "149             15521945                                 Bill Murphy   \n",
       "150             10614452                         Pablo J. Contreras.   \n",
       "151  1255794072280842240                                Heavy Mental   \n",
       "\n",
       "       username_user  \n",
       "0         PauMugarra  \n",
       "1     formacion_fuc3  \n",
       "2         Jose_Sola_  \n",
       "3         bertinha84  \n",
       "4    Apiuxtecnologia  \n",
       "..               ...  \n",
       "147       PesetJairo  \n",
       "148     JaviMostoles  \n",
       "149          wmurphy  \n",
       "150         pcontrer  \n",
       "151   HeavyMental_es  \n",
       "\n",
       "[152 rows x 3 columns]"
      ]
     },
     "execution_count": 450,
     "metadata": {},
     "output_type": "execute_result"
    }
   ],
   "source": [
    "tabla2"
   ]
  },
  {
   "cell_type": "markdown",
   "metadata": {},
   "source": [
    "## BD"
   ]
  },
  {
   "cell_type": "code",
   "execution_count": 511,
   "metadata": {},
   "outputs": [],
   "source": [
    "conexion = sqlite3.connect(\"Datos\")"
   ]
  },
  {
   "cell_type": "code",
   "execution_count": 512,
   "metadata": {},
   "outputs": [],
   "source": [
    "cursor = conexion.cursor()"
   ]
  },
  {
   "cell_type": "code",
   "execution_count": 504,
   "metadata": {},
   "outputs": [],
   "source": [
    "tabla1.to_sql(\"tweets\", conexion)"
   ]
  },
  {
   "cell_type": "code",
   "execution_count": 505,
   "metadata": {},
   "outputs": [],
   "source": [
    "tabla2.to_sql(\"usuarios\", conexion)"
   ]
  },
  {
   "cell_type": "code",
   "execution_count": 506,
   "metadata": {},
   "outputs": [],
   "source": [
    "conexion.commit()"
   ]
  },
  {
   "cell_type": "code",
   "execution_count": 517,
   "metadata": {},
   "outputs": [],
   "source": [
    "conexion.close()"
   ]
  },
  {
   "cell_type": "code",
   "execution_count": 513,
   "metadata": {},
   "outputs": [],
   "source": [
    "users = pd.DataFrame(cursor.execute(\"select * from usuarios\").fetchall(), columns = [0,\"id_user\",\"name_user\",\"username_user\"]).set_index(0)"
   ]
  },
  {
   "cell_type": "code",
   "execution_count": 514,
   "metadata": {},
   "outputs": [],
   "source": [
    "tweets = pd.DataFrame(cursor.execute(\"select * from tweets\").fetchall(), columns = [0,\"id_tweet\",\"mensaje_tweet\", \"fecha_tweet\", \"author_tweet\", \"retweet_count\", \"reply_count\", \n",
    "\"like_count\", \"quote_count\"]).set_index(0)"
   ]
  },
  {
   "cell_type": "code",
   "execution_count": 518,
   "metadata": {},
   "outputs": [
    {
     "data": {
      "text/html": [
       "<div>\n",
       "<style scoped>\n",
       "    .dataframe tbody tr th:only-of-type {\n",
       "        vertical-align: middle;\n",
       "    }\n",
       "\n",
       "    .dataframe tbody tr th {\n",
       "        vertical-align: top;\n",
       "    }\n",
       "\n",
       "    .dataframe thead th {\n",
       "        text-align: right;\n",
       "    }\n",
       "</style>\n",
       "<table border=\"1\" class=\"dataframe\">\n",
       "  <thead>\n",
       "    <tr style=\"text-align: right;\">\n",
       "      <th></th>\n",
       "      <th>id_user</th>\n",
       "      <th>name_user</th>\n",
       "      <th>username_user</th>\n",
       "    </tr>\n",
       "    <tr>\n",
       "      <th>0</th>\n",
       "      <th></th>\n",
       "      <th></th>\n",
       "      <th></th>\n",
       "    </tr>\n",
       "  </thead>\n",
       "  <tbody>\n",
       "    <tr>\n",
       "      <th>0</th>\n",
       "      <td>1003872445</td>\n",
       "      <td>Pau Mugarra</td>\n",
       "      <td>PauMugarra</td>\n",
       "    </tr>\n",
       "    <tr>\n",
       "      <th>1</th>\n",
       "      <td>2529499620</td>\n",
       "      <td>Formación Fundación Universidad Carlos III</td>\n",
       "      <td>formacion_fuc3</td>\n",
       "    </tr>\n",
       "    <tr>\n",
       "      <th>2</th>\n",
       "      <td>706520411551494145</td>\n",
       "      <td>JoseSola</td>\n",
       "      <td>Jose_Sola_</td>\n",
       "    </tr>\n",
       "    <tr>\n",
       "      <th>3</th>\n",
       "      <td>604485175</td>\n",
       "      <td>Berta Otero</td>\n",
       "      <td>bertinha84</td>\n",
       "    </tr>\n",
       "    <tr>\n",
       "      <th>4</th>\n",
       "      <td>1391838162830385165</td>\n",
       "      <td>Apiux Tecnología</td>\n",
       "      <td>Apiuxtecnologia</td>\n",
       "    </tr>\n",
       "    <tr>\n",
       "      <th>...</th>\n",
       "      <td>...</td>\n",
       "      <td>...</td>\n",
       "      <td>...</td>\n",
       "    </tr>\n",
       "    <tr>\n",
       "      <th>147</th>\n",
       "      <td>962578275162869760</td>\n",
       "      <td>Jairo P</td>\n",
       "      <td>PesetJairo</td>\n",
       "    </tr>\n",
       "    <tr>\n",
       "      <th>148</th>\n",
       "      <td>18955785</td>\n",
       "      <td>Javi Pérez ⚡ 😎 Learning by doing. 🦾 💻 📚 🚀</td>\n",
       "      <td>JaviMostoles</td>\n",
       "    </tr>\n",
       "    <tr>\n",
       "      <th>149</th>\n",
       "      <td>15521945</td>\n",
       "      <td>Bill Murphy</td>\n",
       "      <td>wmurphy</td>\n",
       "    </tr>\n",
       "    <tr>\n",
       "      <th>150</th>\n",
       "      <td>10614452</td>\n",
       "      <td>Pablo J. Contreras.</td>\n",
       "      <td>pcontrer</td>\n",
       "    </tr>\n",
       "    <tr>\n",
       "      <th>151</th>\n",
       "      <td>1255794072280842240</td>\n",
       "      <td>Heavy Mental</td>\n",
       "      <td>HeavyMental_es</td>\n",
       "    </tr>\n",
       "  </tbody>\n",
       "</table>\n",
       "<p>152 rows × 3 columns</p>\n",
       "</div>"
      ],
      "text/plain": [
       "                 id_user                                   name_user  \\\n",
       "0                                                                      \n",
       "0             1003872445                                 Pau Mugarra   \n",
       "1             2529499620  Formación Fundación Universidad Carlos III   \n",
       "2     706520411551494145                                    JoseSola   \n",
       "3              604485175                                 Berta Otero   \n",
       "4    1391838162830385165                            Apiux Tecnología   \n",
       "..                   ...                                         ...   \n",
       "147   962578275162869760                                     Jairo P   \n",
       "148             18955785   Javi Pérez ⚡ 😎 Learning by doing. 🦾 💻 📚 🚀   \n",
       "149             15521945                                 Bill Murphy   \n",
       "150             10614452                         Pablo J. Contreras.   \n",
       "151  1255794072280842240                                Heavy Mental   \n",
       "\n",
       "       username_user  \n",
       "0                     \n",
       "0         PauMugarra  \n",
       "1     formacion_fuc3  \n",
       "2         Jose_Sola_  \n",
       "3         bertinha84  \n",
       "4    Apiuxtecnologia  \n",
       "..               ...  \n",
       "147       PesetJairo  \n",
       "148     JaviMostoles  \n",
       "149          wmurphy  \n",
       "150         pcontrer  \n",
       "151   HeavyMental_es  \n",
       "\n",
       "[152 rows x 3 columns]"
      ]
     },
     "execution_count": 518,
     "metadata": {},
     "output_type": "execute_result"
    }
   ],
   "source": [
    "users"
   ]
  }
 ],
 "metadata": {
  "kernelspec": {
   "display_name": "Python 3.7.4 64-bit",
   "language": "python",
   "name": "python3"
  },
  "language_info": {
   "codemirror_mode": {
    "name": "ipython",
    "version": 3
   },
   "file_extension": ".py",
   "mimetype": "text/x-python",
   "name": "python",
   "nbconvert_exporter": "python",
   "pygments_lexer": "ipython3",
   "version": "3.7.4"
  },
  "orig_nbformat": 4,
  "vscode": {
   "interpreter": {
    "hash": "6d128f9f649f5675aa9c03abef03d58b028ea46b9880149910e4a6a1e3e34976"
   }
  }
 },
 "nbformat": 4,
 "nbformat_minor": 2
}
