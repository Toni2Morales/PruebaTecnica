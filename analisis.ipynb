{
 "cells": [
  {
   "cell_type": "code",
   "execution_count": 1,
   "metadata": {},
   "outputs": [],
   "source": [
    "import pandas as pd\n",
    "import numpy as np\n",
    "import sqlite3\n",
    "import re"
   ]
  },
  {
   "cell_type": "code",
   "execution_count": 2,
   "metadata": {},
   "outputs": [],
   "source": [
    "conexion = sqlite3.connect(\"Datos\")\n",
    "cursor = conexion.cursor()"
   ]
  },
  {
   "cell_type": "code",
   "execution_count": 68,
   "metadata": {},
   "outputs": [],
   "source": [
    "users = pd.DataFrame(cursor.execute(\"select * from usuarios\").fetchall(), columns = [0,\"id_user\",\"name_user\",\"username_user\"]).set_index(0)"
   ]
  },
  {
   "cell_type": "code",
   "execution_count": 69,
   "metadata": {},
   "outputs": [],
   "source": [
    "users.drop_duplicates(subset = \"id_user\", inplace = True)"
   ]
  },
  {
   "cell_type": "code",
   "execution_count": 70,
   "metadata": {},
   "outputs": [],
   "source": [
    "tweets = pd.DataFrame(cursor.execute(\"select * from tweets\").fetchall(), columns = [0,\"id_tweet\",\"mensaje_tweet\", \"fecha_tweet\", \"author_tweet\", \"retweet_count\", \"reply_count\", \n",
    "\"like_count\", \"quote_count\"]).set_index(0)"
   ]
  },
  {
   "cell_type": "code",
   "execution_count": 71,
   "metadata": {},
   "outputs": [],
   "source": [
    "data = pd.merge(users, tweets, left_on = \"id_user\", right_on = \"author_tweet\")"
   ]
  },
  {
   "cell_type": "code",
   "execution_count": 72,
   "metadata": {},
   "outputs": [],
   "source": [
    "data[\"fecha_tweet\"] = pd.to_datetime(pd.to_datetime(data[\"fecha_tweet\"], infer_datetime_format=True).dt.strftime(\"%y/%m/%d\"))"
   ]
  },
  {
   "cell_type": "code",
   "execution_count": 8,
   "metadata": {},
   "outputs": [],
   "source": [
    "REPLACE_NO_SPACE = re.compile(r\"(\\.)|(\\;)|(\\:)|(\\!)|(\\?)|(\\,)|(\\\")|(\\()|(\\))|(\\[)|(\\])|(\\d+)\")\n",
    "REPLACE_WITH_SPACE = re.compile(r\"(<br\\s*/><br\\s*/>)|(\\-)|(\\/)|(\\n)\")\n",
    "NO_SPACE = \"\"\n",
    "SPACE = \" \""
   ]
  },
  {
   "cell_type": "code",
   "execution_count": 9,
   "metadata": {},
   "outputs": [],
   "source": [
    "mensaje1 = [REPLACE_NO_SPACE.sub(NO_SPACE, line.lower()) for line in data[\"mensaje_tweet\"]]\n",
    "mensaje2 = [REPLACE_WITH_SPACE.sub(SPACE, line) for line in mensaje1]"
   ]
  },
  {
   "cell_type": "code",
   "execution_count": 10,
   "metadata": {},
   "outputs": [],
   "source": [
    "data[\"mensaje_tweet\"] = mensaje2"
   ]
  },
  {
   "cell_type": "code",
   "execution_count": 11,
   "metadata": {},
   "outputs": [
    {
     "data": {
      "text/html": [
       "<div>\n",
       "<style scoped>\n",
       "    .dataframe tbody tr th:only-of-type {\n",
       "        vertical-align: middle;\n",
       "    }\n",
       "\n",
       "    .dataframe tbody tr th {\n",
       "        vertical-align: top;\n",
       "    }\n",
       "\n",
       "    .dataframe thead th {\n",
       "        text-align: right;\n",
       "    }\n",
       "</style>\n",
       "<table border=\"1\" class=\"dataframe\">\n",
       "  <thead>\n",
       "    <tr style=\"text-align: right;\">\n",
       "      <th></th>\n",
       "      <th>id_user</th>\n",
       "      <th>name_user</th>\n",
       "      <th>username_user</th>\n",
       "      <th>id_tweet</th>\n",
       "      <th>mensaje_tweet</th>\n",
       "      <th>fecha_tweet</th>\n",
       "      <th>author_tweet</th>\n",
       "      <th>retweet_count</th>\n",
       "      <th>reply_count</th>\n",
       "      <th>like_count</th>\n",
       "      <th>quote_count</th>\n",
       "    </tr>\n",
       "  </thead>\n",
       "  <tbody>\n",
       "    <tr>\n",
       "      <th>0</th>\n",
       "      <td>1003872445</td>\n",
       "      <td>Pau Mugarra</td>\n",
       "      <td>PauMugarra</td>\n",
       "      <td>1577334577701453827</td>\n",
       "      <td>recordaros que la semana que viene tenemos la ...</td>\n",
       "      <td>2004-10-22</td>\n",
       "      <td>1003872445</td>\n",
       "      <td>2</td>\n",
       "      <td>0</td>\n",
       "      <td>12</td>\n",
       "      <td>0</td>\n",
       "    </tr>\n",
       "    <tr>\n",
       "      <th>1</th>\n",
       "      <td>1003872445</td>\n",
       "      <td>Pau Mugarra</td>\n",
       "      <td>PauMugarra</td>\n",
       "      <td>1573246948693651456</td>\n",
       "      <td>y seguimos con lo prometido  primera quedada d...</td>\n",
       "      <td>2023-09-22</td>\n",
       "      <td>1003872445</td>\n",
       "      <td>7</td>\n",
       "      <td>0</td>\n",
       "      <td>20</td>\n",
       "      <td>4</td>\n",
       "    </tr>\n",
       "    <tr>\n",
       "      <th>2</th>\n",
       "      <td>1003872445</td>\n",
       "      <td>Pau Mugarra</td>\n",
       "      <td>PauMugarra</td>\n",
       "      <td>1541674892390719490</td>\n",
       "      <td>@heavymental_es @davidalayon @recuenco @_miki ...</td>\n",
       "      <td>2028-06-22</td>\n",
       "      <td>1003872445</td>\n",
       "      <td>0</td>\n",
       "      <td>3</td>\n",
       "      <td>2</td>\n",
       "      <td>0</td>\n",
       "    </tr>\n",
       "    <tr>\n",
       "      <th>3</th>\n",
       "      <td>2529499620</td>\n",
       "      <td>Formación Fundación Universidad Carlos III</td>\n",
       "      <td>formacion_fuc3</td>\n",
       "      <td>1576902991507922944</td>\n",
       "      <td>el desarrollador web es uno de los perfiles má...</td>\n",
       "      <td>2003-10-22</td>\n",
       "      <td>2529499620</td>\n",
       "      <td>3</td>\n",
       "      <td>0</td>\n",
       "      <td>3</td>\n",
       "      <td>0</td>\n",
       "    </tr>\n",
       "    <tr>\n",
       "      <th>4</th>\n",
       "      <td>706520411551494145</td>\n",
       "      <td>JoseSola</td>\n",
       "      <td>Jose_Sola_</td>\n",
       "      <td>1576856703349374976</td>\n",
       "      <td>@jorgegrev @thebridge_tech enhorabuena crack</td>\n",
       "      <td>2003-10-22</td>\n",
       "      <td>706520411551494145</td>\n",
       "      <td>0</td>\n",
       "      <td>0</td>\n",
       "      <td>1</td>\n",
       "      <td>0</td>\n",
       "    </tr>\n",
       "  </tbody>\n",
       "</table>\n",
       "</div>"
      ],
      "text/plain": [
       "              id_user                                   name_user  \\\n",
       "0          1003872445                                 Pau Mugarra   \n",
       "1          1003872445                                 Pau Mugarra   \n",
       "2          1003872445                                 Pau Mugarra   \n",
       "3          2529499620  Formación Fundación Universidad Carlos III   \n",
       "4  706520411551494145                                    JoseSola   \n",
       "\n",
       "    username_user             id_tweet  \\\n",
       "0      PauMugarra  1577334577701453827   \n",
       "1      PauMugarra  1573246948693651456   \n",
       "2      PauMugarra  1541674892390719490   \n",
       "3  formacion_fuc3  1576902991507922944   \n",
       "4      Jose_Sola_  1576856703349374976   \n",
       "\n",
       "                                       mensaje_tweet fecha_tweet  \\\n",
       "0  recordaros que la semana que viene tenemos la ...  2004-10-22   \n",
       "1  y seguimos con lo prometido  primera quedada d...  2023-09-22   \n",
       "2  @heavymental_es @davidalayon @recuenco @_miki ...  2028-06-22   \n",
       "3  el desarrollador web es uno de los perfiles má...  2003-10-22   \n",
       "4       @jorgegrev @thebridge_tech enhorabuena crack  2003-10-22   \n",
       "\n",
       "         author_tweet  retweet_count  reply_count  like_count  quote_count  \n",
       "0          1003872445              2            0          12            0  \n",
       "1          1003872445              7            0          20            4  \n",
       "2          1003872445              0            3           2            0  \n",
       "3          2529499620              3            0           3            0  \n",
       "4  706520411551494145              0            0           1            0  "
      ]
     },
     "execution_count": 11,
     "metadata": {},
     "output_type": "execute_result"
    }
   ],
   "source": [
    "data.head()"
   ]
  },
  {
   "cell_type": "markdown",
   "metadata": {},
   "source": [
    "--------"
   ]
  },
  {
   "cell_type": "markdown",
   "metadata": {},
   "source": [
    "## A. ¿Cuál es el tweet con mayor repercusión?"
   ]
  },
  {
   "cell_type": "code",
   "execution_count": 12,
   "metadata": {},
   "outputs": [
    {
     "data": {
      "text/html": [
       "<div>\n",
       "<style scoped>\n",
       "    .dataframe tbody tr th:only-of-type {\n",
       "        vertical-align: middle;\n",
       "    }\n",
       "\n",
       "    .dataframe tbody tr th {\n",
       "        vertical-align: top;\n",
       "    }\n",
       "\n",
       "    .dataframe thead th {\n",
       "        text-align: right;\n",
       "    }\n",
       "</style>\n",
       "<table border=\"1\" class=\"dataframe\">\n",
       "  <thead>\n",
       "    <tr style=\"text-align: right;\">\n",
       "      <th></th>\n",
       "      <th>id_user</th>\n",
       "      <th>name_user</th>\n",
       "      <th>username_user</th>\n",
       "      <th>id_tweet</th>\n",
       "      <th>mensaje_tweet</th>\n",
       "      <th>fecha_tweet</th>\n",
       "      <th>author_tweet</th>\n",
       "      <th>retweet_count</th>\n",
       "      <th>reply_count</th>\n",
       "      <th>like_count</th>\n",
       "      <th>quote_count</th>\n",
       "    </tr>\n",
       "  </thead>\n",
       "  <tbody>\n",
       "    <tr>\n",
       "      <th>37</th>\n",
       "      <td>106344840</td>\n",
       "      <td>Cámara de Comercio de Sevilla</td>\n",
       "      <td>camaradesevilla</td>\n",
       "      <td>1564951151124029441</td>\n",
       "      <td>¿quieres impulsar tu perfil profesional en el ...</td>\n",
       "      <td>2031-08-22</td>\n",
       "      <td>106344840</td>\n",
       "      <td>11</td>\n",
       "      <td>0</td>\n",
       "      <td>13</td>\n",
       "      <td>0</td>\n",
       "    </tr>\n",
       "  </tbody>\n",
       "</table>\n",
       "</div>"
      ],
      "text/plain": [
       "      id_user                      name_user    username_user  \\\n",
       "37  106344840  Cámara de Comercio de Sevilla  camaradesevilla   \n",
       "\n",
       "               id_tweet                                      mensaje_tweet  \\\n",
       "37  1564951151124029441  ¿quieres impulsar tu perfil profesional en el ...   \n",
       "\n",
       "   fecha_tweet author_tweet  retweet_count  reply_count  like_count  \\\n",
       "37  2031-08-22    106344840             11            0          13   \n",
       "\n",
       "    quote_count  \n",
       "37            0  "
      ]
     },
     "execution_count": 12,
     "metadata": {},
     "output_type": "execute_result"
    }
   ],
   "source": [
    "data[data[\"retweet_count\"] == data[\"retweet_count\"].max()]"
   ]
  },
  {
   "cell_type": "markdown",
   "metadata": {},
   "source": [
    "## B. ¿Cuál es el usuario que más menciona a la escuela?"
   ]
  },
  {
   "cell_type": "code",
   "execution_count": 13,
   "metadata": {},
   "outputs": [
    {
     "data": {
      "text/html": [
       "<div>\n",
       "<style scoped>\n",
       "    .dataframe tbody tr th:only-of-type {\n",
       "        vertical-align: middle;\n",
       "    }\n",
       "\n",
       "    .dataframe tbody tr th {\n",
       "        vertical-align: top;\n",
       "    }\n",
       "\n",
       "    .dataframe thead th {\n",
       "        text-align: right;\n",
       "    }\n",
       "</style>\n",
       "<table border=\"1\" class=\"dataframe\">\n",
       "  <thead>\n",
       "    <tr style=\"text-align: right;\">\n",
       "      <th></th>\n",
       "      <th>id_user</th>\n",
       "      <th>name_user</th>\n",
       "      <th>username_user</th>\n",
       "      <th>id_tweet</th>\n",
       "      <th>mensaje_tweet</th>\n",
       "      <th>fecha_tweet</th>\n",
       "      <th>author_tweet</th>\n",
       "      <th>retweet_count</th>\n",
       "      <th>reply_count</th>\n",
       "      <th>like_count</th>\n",
       "      <th>quote_count</th>\n",
       "    </tr>\n",
       "  </thead>\n",
       "  <tbody>\n",
       "    <tr>\n",
       "      <th>78</th>\n",
       "      <td>1255794072280842240</td>\n",
       "      <td>Heavy Mental</td>\n",
       "      <td>HeavyMental_es</td>\n",
       "      <td>1542224482710028291</td>\n",
       "      <td>@carlosmdh @ubaldohervas @davidalayon @recuenc...</td>\n",
       "      <td>2029-06-22</td>\n",
       "      <td>1255794072280842240</td>\n",
       "      <td>0</td>\n",
       "      <td>1</td>\n",
       "      <td>3</td>\n",
       "      <td>0</td>\n",
       "    </tr>\n",
       "    <tr>\n",
       "      <th>79</th>\n",
       "      <td>1255794072280842240</td>\n",
       "      <td>Heavy Mental</td>\n",
       "      <td>HeavyMental_es</td>\n",
       "      <td>1542206287915585536</td>\n",
       "      <td>el sentido de la vida ya no es     light menta...</td>\n",
       "      <td>2029-06-22</td>\n",
       "      <td>1255794072280842240</td>\n",
       "      <td>3</td>\n",
       "      <td>2</td>\n",
       "      <td>22</td>\n",
       "      <td>3</td>\n",
       "    </tr>\n",
       "    <tr>\n",
       "      <th>80</th>\n",
       "      <td>1255794072280842240</td>\n",
       "      <td>Heavy Mental</td>\n",
       "      <td>HeavyMental_es</td>\n",
       "      <td>1541690507600056320</td>\n",
       "      <td>@mulder @paumugarra @davidalayon @recuenco @_m...</td>\n",
       "      <td>2028-06-22</td>\n",
       "      <td>1255794072280842240</td>\n",
       "      <td>0</td>\n",
       "      <td>1</td>\n",
       "      <td>1</td>\n",
       "      <td>0</td>\n",
       "    </tr>\n",
       "    <tr>\n",
       "      <th>81</th>\n",
       "      <td>1255794072280842240</td>\n",
       "      <td>Heavy Mental</td>\n",
       "      <td>HeavyMental_es</td>\n",
       "      <td>1541558488001822725</td>\n",
       "      <td>@bombabarros @mulder @_miki @recuenco @davidal...</td>\n",
       "      <td>2027-06-22</td>\n",
       "      <td>1255794072280842240</td>\n",
       "      <td>0</td>\n",
       "      <td>0</td>\n",
       "      <td>3</td>\n",
       "      <td>0</td>\n",
       "    </tr>\n",
       "    <tr>\n",
       "      <th>82</th>\n",
       "      <td>1255794072280842240</td>\n",
       "      <td>Heavy Mental</td>\n",
       "      <td>HeavyMental_es</td>\n",
       "      <td>1541445192925978625</td>\n",
       "      <td>@vmcasamayor @thebridge_tech @recuenco @alient...</td>\n",
       "      <td>2027-06-22</td>\n",
       "      <td>1255794072280842240</td>\n",
       "      <td>0</td>\n",
       "      <td>0</td>\n",
       "      <td>1</td>\n",
       "      <td>0</td>\n",
       "    </tr>\n",
       "    <tr>\n",
       "      <th>83</th>\n",
       "      <td>1255794072280842240</td>\n",
       "      <td>Heavy Mental</td>\n",
       "      <td>HeavyMental_es</td>\n",
       "      <td>1541403726182858753</td>\n",
       "      <td>@joobid @thebridge_tech @recuenco @guillermode...</td>\n",
       "      <td>2027-06-22</td>\n",
       "      <td>1255794072280842240</td>\n",
       "      <td>0</td>\n",
       "      <td>1</td>\n",
       "      <td>1</td>\n",
       "      <td>0</td>\n",
       "    </tr>\n",
       "    <tr>\n",
       "      <th>84</th>\n",
       "      <td>1255794072280842240</td>\n",
       "      <td>Heavy Mental</td>\n",
       "      <td>HeavyMental_es</td>\n",
       "      <td>1541334998892036096</td>\n",
       "      <td>@jatorrero @thebridge_tech juan antonio te man...</td>\n",
       "      <td>2027-06-22</td>\n",
       "      <td>1255794072280842240</td>\n",
       "      <td>0</td>\n",
       "      <td>1</td>\n",
       "      <td>2</td>\n",
       "      <td>0</td>\n",
       "    </tr>\n",
       "    <tr>\n",
       "      <th>85</th>\n",
       "      <td>1255794072280842240</td>\n",
       "      <td>Heavy Mental</td>\n",
       "      <td>HeavyMental_es</td>\n",
       "      <td>1541297237485035520</td>\n",
       "      <td>@navarro_batista @thebridge_tech en orbyt ya s...</td>\n",
       "      <td>2027-06-22</td>\n",
       "      <td>1255794072280842240</td>\n",
       "      <td>0</td>\n",
       "      <td>1</td>\n",
       "      <td>1</td>\n",
       "      <td>0</td>\n",
       "    </tr>\n",
       "    <tr>\n",
       "      <th>86</th>\n",
       "      <td>1255794072280842240</td>\n",
       "      <td>Heavy Mental</td>\n",
       "      <td>HeavyMental_es</td>\n",
       "      <td>1541062348970115072</td>\n",
       "      <td>@carloslgonzalez @thebridge_tech yes seguramen...</td>\n",
       "      <td>2026-06-22</td>\n",
       "      <td>1255794072280842240</td>\n",
       "      <td>0</td>\n",
       "      <td>0</td>\n",
       "      <td>2</td>\n",
       "      <td>0</td>\n",
       "    </tr>\n",
       "    <tr>\n",
       "      <th>87</th>\n",
       "      <td>1255794072280842240</td>\n",
       "      <td>Heavy Mental</td>\n",
       "      <td>HeavyMental_es</td>\n",
       "      <td>1541060983476584448</td>\n",
       "      <td>@carloslgonzalez @thebridge_tech sí vida real ...</td>\n",
       "      <td>2026-06-22</td>\n",
       "      <td>1255794072280842240</td>\n",
       "      <td>0</td>\n",
       "      <td>1</td>\n",
       "      <td>1</td>\n",
       "      <td>0</td>\n",
       "    </tr>\n",
       "    <tr>\n",
       "      <th>88</th>\n",
       "      <td>1255794072280842240</td>\n",
       "      <td>Heavy Mental</td>\n",
       "      <td>HeavyMental_es</td>\n",
       "      <td>1541046264539893760</td>\n",
       "      <td>🕣 tic tac mañana os vemos a todos a las pm en ...</td>\n",
       "      <td>2026-06-22</td>\n",
       "      <td>1255794072280842240</td>\n",
       "      <td>6</td>\n",
       "      <td>6</td>\n",
       "      <td>17</td>\n",
       "      <td>1</td>\n",
       "    </tr>\n",
       "    <tr>\n",
       "      <th>89</th>\n",
       "      <td>1255794072280842240</td>\n",
       "      <td>Heavy Mental</td>\n",
       "      <td>HeavyMental_es</td>\n",
       "      <td>1536310702876549123</td>\n",
       "      <td>lo prometimos y han llegado gracias a @thebrid...</td>\n",
       "      <td>2013-06-22</td>\n",
       "      <td>1255794072280842240</td>\n",
       "      <td>2</td>\n",
       "      <td>4</td>\n",
       "      <td>6</td>\n",
       "      <td>0</td>\n",
       "    </tr>\n",
       "  </tbody>\n",
       "</table>\n",
       "</div>"
      ],
      "text/plain": [
       "                id_user     name_user   username_user             id_tweet  \\\n",
       "78  1255794072280842240  Heavy Mental  HeavyMental_es  1542224482710028291   \n",
       "79  1255794072280842240  Heavy Mental  HeavyMental_es  1542206287915585536   \n",
       "80  1255794072280842240  Heavy Mental  HeavyMental_es  1541690507600056320   \n",
       "81  1255794072280842240  Heavy Mental  HeavyMental_es  1541558488001822725   \n",
       "82  1255794072280842240  Heavy Mental  HeavyMental_es  1541445192925978625   \n",
       "83  1255794072280842240  Heavy Mental  HeavyMental_es  1541403726182858753   \n",
       "84  1255794072280842240  Heavy Mental  HeavyMental_es  1541334998892036096   \n",
       "85  1255794072280842240  Heavy Mental  HeavyMental_es  1541297237485035520   \n",
       "86  1255794072280842240  Heavy Mental  HeavyMental_es  1541062348970115072   \n",
       "87  1255794072280842240  Heavy Mental  HeavyMental_es  1541060983476584448   \n",
       "88  1255794072280842240  Heavy Mental  HeavyMental_es  1541046264539893760   \n",
       "89  1255794072280842240  Heavy Mental  HeavyMental_es  1536310702876549123   \n",
       "\n",
       "                                        mensaje_tweet fecha_tweet  \\\n",
       "78  @carlosmdh @ubaldohervas @davidalayon @recuenc...  2029-06-22   \n",
       "79  el sentido de la vida ya no es     light menta...  2029-06-22   \n",
       "80  @mulder @paumugarra @davidalayon @recuenco @_m...  2028-06-22   \n",
       "81  @bombabarros @mulder @_miki @recuenco @davidal...  2027-06-22   \n",
       "82  @vmcasamayor @thebridge_tech @recuenco @alient...  2027-06-22   \n",
       "83  @joobid @thebridge_tech @recuenco @guillermode...  2027-06-22   \n",
       "84  @jatorrero @thebridge_tech juan antonio te man...  2027-06-22   \n",
       "85  @navarro_batista @thebridge_tech en orbyt ya s...  2027-06-22   \n",
       "86  @carloslgonzalez @thebridge_tech yes seguramen...  2026-06-22   \n",
       "87  @carloslgonzalez @thebridge_tech sí vida real ...  2026-06-22   \n",
       "88  🕣 tic tac mañana os vemos a todos a las pm en ...  2026-06-22   \n",
       "89  lo prometimos y han llegado gracias a @thebrid...  2013-06-22   \n",
       "\n",
       "           author_tweet  retweet_count  reply_count  like_count  quote_count  \n",
       "78  1255794072280842240              0            1           3            0  \n",
       "79  1255794072280842240              3            2          22            3  \n",
       "80  1255794072280842240              0            1           1            0  \n",
       "81  1255794072280842240              0            0           3            0  \n",
       "82  1255794072280842240              0            0           1            0  \n",
       "83  1255794072280842240              0            1           1            0  \n",
       "84  1255794072280842240              0            1           2            0  \n",
       "85  1255794072280842240              0            1           1            0  \n",
       "86  1255794072280842240              0            0           2            0  \n",
       "87  1255794072280842240              0            1           1            0  \n",
       "88  1255794072280842240              6            6          17            1  \n",
       "89  1255794072280842240              2            4           6            0  "
      ]
     },
     "execution_count": 13,
     "metadata": {},
     "output_type": "execute_result"
    }
   ],
   "source": [
    "data[data[\"username_user\"] == data[\"username_user\"].value_counts().index[0]]"
   ]
  },
  {
   "cell_type": "markdown",
   "metadata": {},
   "source": [
    "## C. ¿En qué mes se concentra el mayor número de tweets?"
   ]
  },
  {
   "cell_type": "code",
   "execution_count": 14,
   "metadata": {},
   "outputs": [
    {
     "data": {
      "text/plain": [
       "6"
      ]
     },
     "execution_count": 14,
     "metadata": {},
     "output_type": "execute_result"
    }
   ],
   "source": [
    "data[\"fecha_tweet\"].dt.month.value_counts().index[0]"
   ]
  },
  {
   "cell_type": "markdown",
   "metadata": {},
   "source": [
    "## D . ¿Qué palabras son más frecuentes?"
   ]
  },
  {
   "cell_type": "code",
   "execution_count": 15,
   "metadata": {},
   "outputs": [],
   "source": [
    "from sklearn.feature_extraction.text import CountVectorizer"
   ]
  },
  {
   "cell_type": "code",
   "execution_count": 16,
   "metadata": {},
   "outputs": [],
   "source": [
    "vectorizer = CountVectorizer()"
   ]
  },
  {
   "cell_type": "code",
   "execution_count": 17,
   "metadata": {},
   "outputs": [],
   "source": [
    "mensaje_tweet = vectorizer.fit_transform(data[\"mensaje_tweet\"])"
   ]
  },
  {
   "cell_type": "code",
   "execution_count": 18,
   "metadata": {},
   "outputs": [
    {
     "data": {
      "text/plain": [
       "array(['_miki', '_sergiosanjuan', 'abierto', ..., '𝗗𝗲𝘀𝗮𝗳𝗶𝗼', '𝗱𝗲',\n",
       "       '𝘁𝗿𝗶𝗽𝘂𝗹𝗮𝗰𝗶𝗼𝗻𝗲𝘀'], dtype=object)"
      ]
     },
     "execution_count": 18,
     "metadata": {},
     "output_type": "execute_result"
    }
   ],
   "source": [
    "vectorizer.get_feature_names_out()"
   ]
  },
  {
   "cell_type": "code",
   "execution_count": 19,
   "metadata": {},
   "outputs": [
    {
     "data": {
      "text/plain": [
       "'𝘁𝗿𝗶𝗽𝘂𝗹𝗮𝗰𝗶𝗼𝗻𝗲𝘀'"
      ]
     },
     "execution_count": 19,
     "metadata": {},
     "output_type": "execute_result"
    }
   ],
   "source": [
    "pd.DataFrame(vectorizer.vocabulary_, index = [0]).iloc[0].sort_values(ascending = False).index[0]"
   ]
  },
  {
   "cell_type": "markdown",
   "metadata": {},
   "source": [
    "## E. ¿Qué tipo de correlación matemática encuentras en las métricas públicas?"
   ]
  },
  {
   "cell_type": "code",
   "execution_count": 20,
   "metadata": {},
   "outputs": [],
   "source": [
    "import seaborn as sns\n",
    "import matplotlib.pyplot as plt"
   ]
  },
  {
   "cell_type": "code",
   "execution_count": 21,
   "metadata": {},
   "outputs": [
    {
     "data": {
      "text/plain": [
       "Index(['id_user', 'name_user', 'username_user', 'id_tweet', 'mensaje_tweet',\n",
       "       'fecha_tweet', 'author_tweet', 'retweet_count', 'reply_count',\n",
       "       'like_count', 'quote_count'],\n",
       "      dtype='object')"
      ]
     },
     "execution_count": 21,
     "metadata": {},
     "output_type": "execute_result"
    }
   ],
   "source": [
    "data.columns"
   ]
  },
  {
   "cell_type": "code",
   "execution_count": 22,
   "metadata": {},
   "outputs": [
    {
     "data": {
      "text/plain": [
       "<AxesSubplot:>"
      ]
     },
     "execution_count": 22,
     "metadata": {},
     "output_type": "execute_result"
    },
    {
     "data": {
      "image/png": "[encoded data removed]",
      "text/plain": [
       "<Figure size 432x288 with 2 Axes>"
      ]
     },
     "metadata": {
      "needs_background": "light"
     },
     "output_type": "display_data"
    }
   ],
   "source": [
    "sns.heatmap(data[[\"retweet_count\", \"reply_count\", \"like_count\", \"quote_count\"]].corr(), annot = True)"
   ]
  },
  {
   "cell_type": "code",
   "execution_count": 23,
   "metadata": {},
   "outputs": [
    {
     "name": "stderr",
     "output_type": "stream",
     "text": [
      "c:\\Users\\tonim\\AppData\\Local\\Programs\\Python\\Python37\\lib\\site-packages\\seaborn\\_decorators.py:43: FutureWarning: Pass the following variables as keyword args: x, y. From version 0.12, the only valid positional argument will be `data`, and passing other arguments without an explicit keyword will result in an error or misinterpretation.\n",
      "  FutureWarning\n",
      "c:\\Users\\tonim\\AppData\\Local\\Programs\\Python\\Python37\\lib\\site-packages\\seaborn\\_decorators.py:43: FutureWarning: Pass the following variables as keyword args: x, y. From version 0.12, the only valid positional argument will be `data`, and passing other arguments without an explicit keyword will result in an error or misinterpretation.\n",
      "  FutureWarning\n",
      "c:\\Users\\tonim\\AppData\\Local\\Programs\\Python\\Python37\\lib\\site-packages\\seaborn\\_decorators.py:43: FutureWarning: Pass the following variables as keyword args: x, y. From version 0.12, the only valid positional argument will be `data`, and passing other arguments without an explicit keyword will result in an error or misinterpretation.\n",
      "  FutureWarning\n",
      "c:\\Users\\tonim\\AppData\\Local\\Programs\\Python\\Python37\\lib\\site-packages\\seaborn\\_decorators.py:43: FutureWarning: Pass the following variables as keyword args: x, y. From version 0.12, the only valid positional argument will be `data`, and passing other arguments without an explicit keyword will result in an error or misinterpretation.\n",
      "  FutureWarning\n",
      "c:\\Users\\tonim\\AppData\\Local\\Programs\\Python\\Python37\\lib\\site-packages\\seaborn\\_decorators.py:43: FutureWarning: Pass the following variables as keyword args: x, y. From version 0.12, the only valid positional argument will be `data`, and passing other arguments without an explicit keyword will result in an error or misinterpretation.\n",
      "  FutureWarning\n",
      "c:\\Users\\tonim\\AppData\\Local\\Programs\\Python\\Python37\\lib\\site-packages\\seaborn\\_decorators.py:43: FutureWarning: Pass the following variables as keyword args: x, y. From version 0.12, the only valid positional argument will be `data`, and passing other arguments without an explicit keyword will result in an error or misinterpretation.\n",
      "  FutureWarning\n"
     ]
    },
    {
     "data": {
      "image/png": "[encoded data removed]",
      "text/plain": [
       "<Figure size 1080x720 with 6 Axes>"
      ]
     },
     "metadata": {
      "needs_background": "light"
     },
     "output_type": "display_data"
    }
   ],
   "source": [
    "plt.figure(figsize = (15,10));\n",
    "plt.subplot(2,3,1);\n",
    "sns.scatterplot(data[\"retweet_count\"], data[\"reply_count\"]);\n",
    "plt.subplot(2,3,2);\n",
    "sns.scatterplot(data[\"retweet_count\"], data[\"like_count\"]);\n",
    "plt.subplot(2,3,3);\n",
    "sns.scatterplot(data[\"retweet_count\"], data[\"quote_count\"]);\n",
    "plt.subplot(2,3,4);\n",
    "sns.scatterplot(data[\"reply_count\"], data[\"like_count\"]);\n",
    "plt.subplot(2,3,5);\n",
    "sns.scatterplot(data[\"reply_count\"], data[\"quote_count\"]);\n",
    "plt.subplot(2,3,6);\n",
    "sns.scatterplot(data[\"like_count\"], data[\"quote_count\"]);\n"
   ]
  },
  {
   "cell_type": "markdown",
   "metadata": {},
   "source": [
    "## F. ¿Has sacado alguna conclusión extra en tu análisis?"
   ]
  },
  {
   "cell_type": "markdown",
   "metadata": {},
   "source": [
    "# MODELO"
   ]
  },
  {
   "cell_type": "code",
   "execution_count": 238,
   "metadata": {},
   "outputs": [],
   "source": [
    "import pickle"
   ]
  },
  {
   "cell_type": "code",
   "execution_count": 240,
   "metadata": {},
   "outputs": [],
   "source": [
    "with open(\"sentiment_model\", \"rb\") as f:\n",
    "    modelo = pickle.load(f)"
   ]
  },
  {
   "cell_type": "markdown",
   "metadata": {},
   "source": [
    "### Ejemplos predicciones"
   ]
  },
  {
   "cell_type": "code",
   "execution_count": 336,
   "metadata": {},
   "outputs": [
    {
     "data": {
      "text/plain": [
       "'Recordaros que la semana que viene tenemos la primera quedada #CPS en Madrid, en @TheBridge_Tech, en el que tendremos la gran suerte de contar con @Recuenco para que nos dé una charla. Las plazas se han agotado, pero os podéis apuntar al grupo para próximas quedadas 🚀'"
      ]
     },
     "execution_count": 336,
     "metadata": {},
     "output_type": "execute_result"
    }
   ],
   "source": [
    "data[\"mensaje_tweet\"][0]"
   ]
  },
  {
   "cell_type": "code",
   "execution_count": 246,
   "metadata": {},
   "outputs": [
    {
     "data": {
      "text/plain": [
       "array([1, 1, 1, 1, 0], dtype=int64)"
      ]
     },
     "execution_count": 246,
     "metadata": {},
     "output_type": "execute_result"
    }
   ],
   "source": [
    "modelo.predict(data[\"mensaje_tweet\"][:5])"
   ]
  },
  {
   "cell_type": "code",
   "execution_count": 248,
   "metadata": {},
   "outputs": [
    {
     "data": {
      "text/plain": [
       "'@jorgegrev @TheBridge_Tech Enhorabuena crack!'"
      ]
     },
     "execution_count": 248,
     "metadata": {},
     "output_type": "execute_result"
    }
   ],
   "source": [
    "data[\"mensaje_tweet\"][4]"
   ]
  },
  {
   "cell_type": "markdown",
   "metadata": {},
   "source": [
    "## feature importance"
   ]
  },
  {
   "cell_type": "code",
   "execution_count": null,
   "metadata": {},
   "outputs": [],
   "source": [
    "modelo[\"vect\"].vocabulary_"
   ]
  },
  {
   "cell_type": "code",
   "execution_count": 290,
   "metadata": {},
   "outputs": [],
   "source": [
    "coef = np.abs(modelo[\"cls\"].coef_[0])"
   ]
  },
  {
   "cell_type": "code",
   "execution_count": 315,
   "metadata": {},
   "outputs": [],
   "source": [
    "coef = np.sort(np.abs(modelo[\"cls\"].coef_[0]))[-7:]"
   ]
  },
  {
   "cell_type": "code",
   "execution_count": 299,
   "metadata": {},
   "outputs": [],
   "source": [
    "indice_coef = []"
   ]
  },
  {
   "cell_type": "code",
   "execution_count": 300,
   "metadata": {},
   "outputs": [],
   "source": [
    "for x in np.sort(np.abs(modelo[\"cls\"].coef_[0]))[-7:]:\n",
    "    indice_coef.append(list(coef).index(x))"
   ]
  },
  {
   "cell_type": "code",
   "execution_count": 301,
   "metadata": {},
   "outputs": [
    {
     "data": {
      "text/plain": [
       "[232, 106, 390, 118, 439, 340, 333]"
      ]
     },
     "execution_count": 301,
     "metadata": {},
     "output_type": "execute_result"
    }
   ],
   "source": [
    "indice_coef"
   ]
  },
  {
   "cell_type": "code",
   "execution_count": 308,
   "metadata": {},
   "outputs": [],
   "source": [
    "nombres_indice = []"
   ]
  },
  {
   "cell_type": "code",
   "execution_count": 309,
   "metadata": {},
   "outputs": [],
   "source": [
    "for x in indice_coef:\n",
    "    nombres_indice.append(list(modelo[\"vect\"].vocabulary_)[x])"
   ]
  },
  {
   "cell_type": "code",
   "execution_count": 310,
   "metadata": {},
   "outputs": [
    {
     "data": {
      "text/plain": [
       "['reduc', 'gobiern', 'eleg', 'blanc', 'tim', 'abc_es', 'cart']"
      ]
     },
     "execution_count": 310,
     "metadata": {},
     "output_type": "execute_result"
    }
   ],
   "source": [
    "nombres_indice"
   ]
  },
  {
   "cell_type": "code",
   "execution_count": 321,
   "metadata": {},
   "outputs": [],
   "source": [
    "nombres_indice_reversed = []\n",
    "coef_reversed = []"
   ]
  },
  {
   "cell_type": "code",
   "execution_count": 322,
   "metadata": {},
   "outputs": [],
   "source": [
    "for x in reversed(nombres_indice):\n",
    "    nombres_indice_reversed.append(x)\n",
    "for x in reversed(coef):\n",
    "    coef_reversed.append(x)"
   ]
  },
  {
   "cell_type": "code",
   "execution_count": 328,
   "metadata": {},
   "outputs": [
    {
     "data": {
      "text/plain": [
       "<AxesSubplot:>"
      ]
     },
     "execution_count": 328,
     "metadata": {},
     "output_type": "execute_result"
    },
    {
     "data": {
      "image/png": "[encoded data removed]",
      "text/plain": [
       "<Figure size 432x288 with 1 Axes>"
      ]
     },
     "metadata": {
      "needs_background": "light"
     },
     "output_type": "display_data"
    }
   ],
   "source": [
    "sns.barplot(x = nombres_indice_reversed, y = coef_reversed)"
   ]
  },
  {
   "cell_type": "markdown",
   "metadata": {},
   "source": [
    "## > El modelo se podría mejorar añadiendo variables que valoren grupos de palabras, eliminando las variables que representan palabras sin importancia, como determinantes, conjunciones, preposiciones, eliminando la distincion entre plurales, singulares y tiempos verbales.\n",
    "\n",
    "## > El machine learning se podría aplicar por ejemplo a intentar predecir cuanta repercusión tendrá un tweet teniendo en cuenta los likes y retweets o qué tweet le va a gustar a una clase concreta de perfiles o los espacios le puede gustar."
   ]
  },
  {
   "cell_type": "code",
   "execution_count": null,
   "metadata": {},
   "outputs": [],
   "source": []
  }
 ],
 "metadata": {
  "kernelspec": {
   "display_name": "Python 3.7.4 64-bit",
   "language": "python",
   "name": "python3"
  },
  "language_info": {
   "codemirror_mode": {
    "name": "ipython",
    "version": 3
   },
   "file_extension": ".py",
   "mimetype": "text/x-python",
   "name": "python",
   "nbconvert_exporter": "python",
   "pygments_lexer": "ipython3",
   "version": "3.7.4"
  },
  "orig_nbformat": 4,
  "vscode": {
   "interpreter": {
    "hash": "6d128f9f649f5675aa9c03abef03d58b028ea46b9880149910e4a6a1e3e34976"
   }
  }
 },
 "nbformat": 4,
 "nbformat_minor": 2
}
