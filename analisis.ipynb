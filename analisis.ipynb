{
 "cells": [
  {
   "cell_type": "code",
   "execution_count": 29,
   "metadata": {},
   "outputs": [],
   "source": [
    "import pandas as pd\n",
    "import numpy as np\n",
    "import sqlite3\n",
    "import re"
   ]
  },
  {
   "cell_type": "code",
   "execution_count": 30,
   "metadata": {},
   "outputs": [],
   "source": [
    "conexion = sqlite3.connect(\"Datos\")\n",
    "cursor = conexion.cursor()"
   ]
  },
  {
   "cell_type": "code",
   "execution_count": 31,
   "metadata": {},
   "outputs": [],
   "source": [
    "users = pd.DataFrame(cursor.execute(\"select * from usuarios\").fetchall(), columns = [0,\"id_user\",\"name_user\",\"username_user\"]).set_index(0)"
   ]
  },
  {
   "cell_type": "code",
   "execution_count": 32,
   "metadata": {},
   "outputs": [],
   "source": [
    "users.drop_duplicates(subset = \"id_user\", inplace = True)"
   ]
  },
  {
   "cell_type": "code",
   "execution_count": 33,
   "metadata": {},
   "outputs": [],
   "source": [
    "tweets = pd.DataFrame(cursor.execute(\"select * from tweets\").fetchall(), columns = [0,\"id_tweet\",\"mensaje_tweet\", \"fecha_tweet\", \"author_tweet\", \"retweet_count\", \"reply_count\", \n",
    "\"like_count\", \"quote_count\"]).set_index(0)"
   ]
  },
  {
   "cell_type": "code",
   "execution_count": 34,
   "metadata": {},
   "outputs": [],
   "source": [
    "data = pd.merge(users, tweets, left_on = \"id_user\", right_on = \"author_tweet\")"
   ]
  },
  {
   "cell_type": "code",
   "execution_count": 35,
   "metadata": {},
   "outputs": [],
   "source": [
    "data[\"fecha_tweet\"] = pd.to_datetime(pd.to_datetime(data[\"fecha_tweet\"], infer_datetime_format=True).dt.strftime(\"%y/%m/%d\"))"
   ]
  },
  {
   "cell_type": "code",
   "execution_count": 8,
   "metadata": {},
   "outputs": [],
   "source": [
    "REPLACE_NO_SPACE = re.compile(r\"(\\.)|(\\;)|(\\:)|(\\!)|(\\?)|(\\,)|(\\\")|(\\()|(\\))|(\\[)|(\\])|(\\d+)\")\n",
    "REPLACE_WITH_SPACE = re.compile(r\"(<br\\s*/><br\\s*/>)|(\\-)|(\\/)|(\\n)\")\n",
    "NO_SPACE = \"\"\n",
    "SPACE = \" \""
   ]
  },
  {
   "cell_type": "code",
   "execution_count": 9,
   "metadata": {},
   "outputs": [],
   "source": [
    "mensaje1 = [REPLACE_NO_SPACE.sub(NO_SPACE, line.lower()) for line in data[\"mensaje_tweet\"]]\n",
    "mensaje2 = [REPLACE_WITH_SPACE.sub(SPACE, line) for line in mensaje1]"
   ]
  },
  {
   "cell_type": "code",
   "execution_count": 10,
   "metadata": {},
   "outputs": [],
   "source": [
    "data[\"mensaje_tweet\"] = mensaje2"
   ]
  },
  {
   "cell_type": "code",
   "execution_count": 11,
   "metadata": {},
   "outputs": [
    {
     "data": {
      "text/html": [
       "<div>\n",
       "<style scoped>\n",
       "    .dataframe tbody tr th:only-of-type {\n",
       "        vertical-align: middle;\n",
       "    }\n",
       "\n",
       "    .dataframe tbody tr th {\n",
       "        vertical-align: top;\n",
       "    }\n",
       "\n",
       "    .dataframe thead th {\n",
       "        text-align: right;\n",
       "    }\n",
       "</style>\n",
       "<table border=\"1\" class=\"dataframe\">\n",
       "  <thead>\n",
       "    <tr style=\"text-align: right;\">\n",
       "      <th></th>\n",
       "      <th>id_user</th>\n",
       "      <th>name_user</th>\n",
       "      <th>username_user</th>\n",
       "      <th>id_tweet</th>\n",
       "      <th>mensaje_tweet</th>\n",
       "      <th>fecha_tweet</th>\n",
       "      <th>author_tweet</th>\n",
       "      <th>retweet_count</th>\n",
       "      <th>reply_count</th>\n",
       "      <th>like_count</th>\n",
       "      <th>quote_count</th>\n",
       "    </tr>\n",
       "  </thead>\n",
       "  <tbody>\n",
       "    <tr>\n",
       "      <th>0</th>\n",
       "      <td>1003872445</td>\n",
       "      <td>Pau Mugarra</td>\n",
       "      <td>PauMugarra</td>\n",
       "      <td>1577334577701453827</td>\n",
       "      <td>recordaros que la semana que viene tenemos la ...</td>\n",
       "      <td>2004-10-22</td>\n",
       "      <td>1003872445</td>\n",
       "      <td>2</td>\n",
       "      <td>0</td>\n",
       "      <td>12</td>\n",
       "      <td>0</td>\n",
       "    </tr>\n",
       "    <tr>\n",
       "      <th>1</th>\n",
       "      <td>1003872445</td>\n",
       "      <td>Pau Mugarra</td>\n",
       "      <td>PauMugarra</td>\n",
       "      <td>1573246948693651456</td>\n",
       "      <td>y seguimos con lo prometido  primera quedada d...</td>\n",
       "      <td>2023-09-22</td>\n",
       "      <td>1003872445</td>\n",
       "      <td>7</td>\n",
       "      <td>0</td>\n",
       "      <td>20</td>\n",
       "      <td>4</td>\n",
       "    </tr>\n",
       "    <tr>\n",
       "      <th>2</th>\n",
       "      <td>1003872445</td>\n",
       "      <td>Pau Mugarra</td>\n",
       "      <td>PauMugarra</td>\n",
       "      <td>1541674892390719490</td>\n",
       "      <td>@heavymental_es @davidalayon @recuenco @_miki ...</td>\n",
       "      <td>2028-06-22</td>\n",
       "      <td>1003872445</td>\n",
       "      <td>0</td>\n",
       "      <td>3</td>\n",
       "      <td>2</td>\n",
       "      <td>0</td>\n",
       "    </tr>\n",
       "    <tr>\n",
       "      <th>3</th>\n",
       "      <td>2529499620</td>\n",
       "      <td>Formación Fundación Universidad Carlos III</td>\n",
       "      <td>formacion_fuc3</td>\n",
       "      <td>1576902991507922944</td>\n",
       "      <td>el desarrollador web es uno de los perfiles má...</td>\n",
       "      <td>2003-10-22</td>\n",
       "      <td>2529499620</td>\n",
       "      <td>3</td>\n",
       "      <td>0</td>\n",
       "      <td>3</td>\n",
       "      <td>0</td>\n",
       "    </tr>\n",
       "    <tr>\n",
       "      <th>4</th>\n",
       "      <td>706520411551494145</td>\n",
       "      <td>JoseSola</td>\n",
       "      <td>Jose_Sola_</td>\n",
       "      <td>1576856703349374976</td>\n",
       "      <td>@jorgegrev @thebridge_tech enhorabuena crack</td>\n",
       "      <td>2003-10-22</td>\n",
       "      <td>706520411551494145</td>\n",
       "      <td>0</td>\n",
       "      <td>0</td>\n",
       "      <td>1</td>\n",
       "      <td>0</td>\n",
       "    </tr>\n",
       "  </tbody>\n",
       "</table>\n",
       "</div>"
      ],
      "text/plain": [
       "              id_user                                   name_user  \\\n",
       "0          1003872445                                 Pau Mugarra   \n",
       "1          1003872445                                 Pau Mugarra   \n",
       "2          1003872445                                 Pau Mugarra   \n",
       "3          2529499620  Formación Fundación Universidad Carlos III   \n",
       "4  706520411551494145                                    JoseSola   \n",
       "\n",
       "    username_user             id_tweet  \\\n",
       "0      PauMugarra  1577334577701453827   \n",
       "1      PauMugarra  1573246948693651456   \n",
       "2      PauMugarra  1541674892390719490   \n",
       "3  formacion_fuc3  1576902991507922944   \n",
       "4      Jose_Sola_  1576856703349374976   \n",
       "\n",
       "                                       mensaje_tweet fecha_tweet  \\\n",
       "0  recordaros que la semana que viene tenemos la ...  2004-10-22   \n",
       "1  y seguimos con lo prometido  primera quedada d...  2023-09-22   \n",
       "2  @heavymental_es @davidalayon @recuenco @_miki ...  2028-06-22   \n",
       "3  el desarrollador web es uno de los perfiles má...  2003-10-22   \n",
       "4       @jorgegrev @thebridge_tech enhorabuena crack  2003-10-22   \n",
       "\n",
       "         author_tweet  retweet_count  reply_count  like_count  quote_count  \n",
       "0          1003872445              2            0          12            0  \n",
       "1          1003872445              7            0          20            4  \n",
       "2          1003872445              0            3           2            0  \n",
       "3          2529499620              3            0           3            0  \n",
       "4  706520411551494145              0            0           1            0  "
      ]
     },
     "execution_count": 11,
     "metadata": {},
     "output_type": "execute_result"
    }
   ],
   "source": [
    "data.head()"
   ]
  },
  {
   "cell_type": "markdown",
   "metadata": {},
   "source": [
    "--------"
   ]
  },
  {
   "cell_type": "markdown",
   "metadata": {},
   "source": [
    "## A. ¿Cuál es el tweet con mayor repercusión?"
   ]
  },
  {
   "cell_type": "code",
   "execution_count": 50,
   "metadata": {},
   "outputs": [
    {
     "data": {
      "text/html": [
       "<div>\n",
       "<style scoped>\n",
       "    .dataframe tbody tr th:only-of-type {\n",
       "        vertical-align: middle;\n",
       "    }\n",
       "\n",
       "    .dataframe tbody tr th {\n",
       "        vertical-align: top;\n",
       "    }\n",
       "\n",
       "    .dataframe thead th {\n",
       "        text-align: right;\n",
       "    }\n",
       "</style>\n",
       "<table border=\"1\" class=\"dataframe\">\n",
       "  <thead>\n",
       "    <tr style=\"text-align: right;\">\n",
       "      <th></th>\n",
       "      <th>id_user</th>\n",
       "      <th>name_user</th>\n",
       "      <th>username_user</th>\n",
       "      <th>id_tweet</th>\n",
       "      <th>mensaje_tweet</th>\n",
       "      <th>fecha_tweet</th>\n",
       "      <th>author_tweet</th>\n",
       "      <th>retweet_count</th>\n",
       "      <th>reply_count</th>\n",
       "      <th>like_count</th>\n",
       "      <th>quote_count</th>\n",
       "      <th>repercusion</th>\n",
       "    </tr>\n",
       "  </thead>\n",
       "  <tbody>\n",
       "    <tr>\n",
       "      <th>37</th>\n",
       "      <td>106344840</td>\n",
       "      <td>Cámara de Comercio de Sevilla</td>\n",
       "      <td>camaradesevilla</td>\n",
       "      <td>1564951151124029441</td>\n",
       "      <td>¿Quieres impulsar tu perfil profesional en el ...</td>\n",
       "      <td>2031-08-22</td>\n",
       "      <td>106344840</td>\n",
       "      <td>11</td>\n",
       "      <td>0</td>\n",
       "      <td>13</td>\n",
       "      <td>0</td>\n",
       "      <td>24</td>\n",
       "    </tr>\n",
       "  </tbody>\n",
       "</table>\n",
       "</div>"
      ],
      "text/plain": [
       "      id_user                      name_user    username_user  \\\n",
       "37  106344840  Cámara de Comercio de Sevilla  camaradesevilla   \n",
       "\n",
       "               id_tweet                                      mensaje_tweet  \\\n",
       "37  1564951151124029441  ¿Quieres impulsar tu perfil profesional en el ...   \n",
       "\n",
       "   fecha_tweet author_tweet  retweet_count  reply_count  like_count  \\\n",
       "37  2031-08-22    106344840             11            0          13   \n",
       "\n",
       "    quote_count  repercusion  \n",
       "37            0           24  "
      ]
     },
     "execution_count": 50,
     "metadata": {},
     "output_type": "execute_result"
    }
   ],
   "source": [
    "data[data[\"retweet_count\"] == data[\"retweet_count\"].max()]"
   ]
  },
  {
   "cell_type": "code",
   "execution_count": 45,
   "metadata": {},
   "outputs": [
    {
     "data": {
      "text/plain": [
       "'El sentido de la vida ya no es 42 -- Light Mental edición especial @TheBridge_Tech https://t.co/z7hOVln8Bp'"
      ]
     },
     "execution_count": 45,
     "metadata": {},
     "output_type": "execute_result"
    }
   ],
   "source": [
    "data[data[\"like_count\"] == data[\"like_count\"].max()][\"mensaje_tweet\"][79]"
   ]
  },
  {
   "cell_type": "code",
   "execution_count": 46,
   "metadata": {},
   "outputs": [
    {
     "data": {
      "text/plain": [
       "'🕣 TIC, TAC: MAÑANA os vemos a todos a las 7.30pm en nuestro evento en directo en MADRID en @TheBridge_Tech \\n\\n🚨Para los que no vayáis, TRANQUILOS, seguramente el martes lo emitamos para todos vosotros :D https://t.co/fqaYsbyxl7'"
      ]
     },
     "execution_count": 46,
     "metadata": {},
     "output_type": "execute_result"
    }
   ],
   "source": [
    "data[data[\"reply_count\"] == data[\"reply_count\"].max()][\"mensaje_tweet\"][88]"
   ]
  },
  {
   "cell_type": "code",
   "execution_count": 51,
   "metadata": {},
   "outputs": [
    {
     "data": {
      "text/html": [
       "<div>\n",
       "<style scoped>\n",
       "    .dataframe tbody tr th:only-of-type {\n",
       "        vertical-align: middle;\n",
       "    }\n",
       "\n",
       "    .dataframe tbody tr th {\n",
       "        vertical-align: top;\n",
       "    }\n",
       "\n",
       "    .dataframe thead th {\n",
       "        text-align: right;\n",
       "    }\n",
       "</style>\n",
       "<table border=\"1\" class=\"dataframe\">\n",
       "  <thead>\n",
       "    <tr style=\"text-align: right;\">\n",
       "      <th></th>\n",
       "      <th>id_user</th>\n",
       "      <th>name_user</th>\n",
       "      <th>username_user</th>\n",
       "      <th>id_tweet</th>\n",
       "      <th>mensaje_tweet</th>\n",
       "      <th>fecha_tweet</th>\n",
       "      <th>author_tweet</th>\n",
       "      <th>retweet_count</th>\n",
       "      <th>reply_count</th>\n",
       "      <th>like_count</th>\n",
       "      <th>quote_count</th>\n",
       "      <th>repercusion</th>\n",
       "    </tr>\n",
       "  </thead>\n",
       "  <tbody>\n",
       "    <tr>\n",
       "      <th>1</th>\n",
       "      <td>1003872445</td>\n",
       "      <td>Pau Mugarra</td>\n",
       "      <td>PauMugarra</td>\n",
       "      <td>1573246948693651456</td>\n",
       "      <td>Y seguimos con lo prometido:\\n\\nPrimera quedad...</td>\n",
       "      <td>2023-09-22</td>\n",
       "      <td>1003872445</td>\n",
       "      <td>7</td>\n",
       "      <td>0</td>\n",
       "      <td>20</td>\n",
       "      <td>4</td>\n",
       "      <td>31</td>\n",
       "    </tr>\n",
       "  </tbody>\n",
       "</table>\n",
       "</div>"
      ],
      "text/plain": [
       "      id_user    name_user username_user             id_tweet  \\\n",
       "1  1003872445  Pau Mugarra    PauMugarra  1573246948693651456   \n",
       "\n",
       "                                       mensaje_tweet fecha_tweet author_tweet  \\\n",
       "1  Y seguimos con lo prometido:\\n\\nPrimera quedad...  2023-09-22   1003872445   \n",
       "\n",
       "   retweet_count  reply_count  like_count  quote_count  repercusion  \n",
       "1              7            0          20            4           31  "
      ]
     },
     "execution_count": 51,
     "metadata": {},
     "output_type": "execute_result"
    }
   ],
   "source": [
    "data[data[\"quote_count\"] == data[\"quote_count\"].max()]"
   ]
  },
  {
   "cell_type": "code",
   "execution_count": 40,
   "metadata": {},
   "outputs": [],
   "source": [
    "data[\"repercusion\"] = data[\"quote_count\"] + data[\"reply_count\"] + data[\"like_count\"] + data[\"retweet_count\"]"
   ]
  },
  {
   "cell_type": "code",
   "execution_count": 41,
   "metadata": {},
   "outputs": [
    {
     "data": {
      "text/plain": [
       "'Y seguimos con lo prometido:\\n\\nPrimera quedada de la comunidad #CPS en Madrid 🚀:\\nhttps://t.co/xnWjKu6fPi\\nen un espacio cedido por @TheBridge_Tech.'"
      ]
     },
     "execution_count": 41,
     "metadata": {},
     "output_type": "execute_result"
    }
   ],
   "source": [
    "data[data[\"repercusion\"] == data[\"repercusion\"].max()][\"mensaje_tweet\"][1]"
   ]
  },
  {
   "cell_type": "markdown",
   "metadata": {},
   "source": [
    "## B. ¿Cuál es el usuario que más menciona a la escuela?"
   ]
  },
  {
   "cell_type": "code",
   "execution_count": 55,
   "metadata": {},
   "outputs": [
    {
     "data": {
      "text/plain": [
       "'HeavyMental_es'"
      ]
     },
     "execution_count": 55,
     "metadata": {},
     "output_type": "execute_result"
    }
   ],
   "source": [
    "data[\"username_user\"].value_counts().index[0]"
   ]
  },
  {
   "cell_type": "code",
   "execution_count": 57,
   "metadata": {},
   "outputs": [
    {
     "data": {
      "text/html": [
       "<div>\n",
       "<style scoped>\n",
       "    .dataframe tbody tr th:only-of-type {\n",
       "        vertical-align: middle;\n",
       "    }\n",
       "\n",
       "    .dataframe tbody tr th {\n",
       "        vertical-align: top;\n",
       "    }\n",
       "\n",
       "    .dataframe thead th {\n",
       "        text-align: right;\n",
       "    }\n",
       "</style>\n",
       "<table border=\"1\" class=\"dataframe\">\n",
       "  <thead>\n",
       "    <tr style=\"text-align: right;\">\n",
       "      <th></th>\n",
       "      <th>id_user</th>\n",
       "      <th>name_user</th>\n",
       "      <th>username_user</th>\n",
       "      <th>id_tweet</th>\n",
       "      <th>mensaje_tweet</th>\n",
       "      <th>fecha_tweet</th>\n",
       "      <th>author_tweet</th>\n",
       "      <th>retweet_count</th>\n",
       "      <th>reply_count</th>\n",
       "      <th>like_count</th>\n",
       "      <th>quote_count</th>\n",
       "      <th>repercusion</th>\n",
       "    </tr>\n",
       "  </thead>\n",
       "  <tbody>\n",
       "    <tr>\n",
       "      <th>78</th>\n",
       "      <td>1255794072280842240</td>\n",
       "      <td>Heavy Mental</td>\n",
       "      <td>HeavyMental_es</td>\n",
       "      <td>1542224482710028291</td>\n",
       "      <td>@carlosmdh @UbaldoHervas @DavidAlayon @Recuenc...</td>\n",
       "      <td>2029-06-22</td>\n",
       "      <td>1255794072280842240</td>\n",
       "      <td>0</td>\n",
       "      <td>1</td>\n",
       "      <td>3</td>\n",
       "      <td>0</td>\n",
       "      <td>4</td>\n",
       "    </tr>\n",
       "    <tr>\n",
       "      <th>79</th>\n",
       "      <td>1255794072280842240</td>\n",
       "      <td>Heavy Mental</td>\n",
       "      <td>HeavyMental_es</td>\n",
       "      <td>1542206287915585536</td>\n",
       "      <td>El sentido de la vida ya no es 42 -- Light Men...</td>\n",
       "      <td>2029-06-22</td>\n",
       "      <td>1255794072280842240</td>\n",
       "      <td>3</td>\n",
       "      <td>2</td>\n",
       "      <td>22</td>\n",
       "      <td>3</td>\n",
       "      <td>30</td>\n",
       "    </tr>\n",
       "    <tr>\n",
       "      <th>80</th>\n",
       "      <td>1255794072280842240</td>\n",
       "      <td>Heavy Mental</td>\n",
       "      <td>HeavyMental_es</td>\n",
       "      <td>1541690507600056320</td>\n",
       "      <td>@Mulder01198676 @PauMugarra @DavidAlayon @Recu...</td>\n",
       "      <td>2028-06-22</td>\n",
       "      <td>1255794072280842240</td>\n",
       "      <td>0</td>\n",
       "      <td>1</td>\n",
       "      <td>1</td>\n",
       "      <td>0</td>\n",
       "      <td>2</td>\n",
       "    </tr>\n",
       "    <tr>\n",
       "      <th>81</th>\n",
       "      <td>1255794072280842240</td>\n",
       "      <td>Heavy Mental</td>\n",
       "      <td>HeavyMental_es</td>\n",
       "      <td>1541558488001822725</td>\n",
       "      <td>@Bombabarros @Mulder01198676 @_miki @Recuenco ...</td>\n",
       "      <td>2027-06-22</td>\n",
       "      <td>1255794072280842240</td>\n",
       "      <td>0</td>\n",
       "      <td>0</td>\n",
       "      <td>3</td>\n",
       "      <td>0</td>\n",
       "      <td>3</td>\n",
       "    </tr>\n",
       "    <tr>\n",
       "      <th>82</th>\n",
       "      <td>1255794072280842240</td>\n",
       "      <td>Heavy Mental</td>\n",
       "      <td>HeavyMental_es</td>\n",
       "      <td>1541445192925978625</td>\n",
       "      <td>@vmcasamayor @TheBridge_Tech @Recuenco @Alient...</td>\n",
       "      <td>2027-06-22</td>\n",
       "      <td>1255794072280842240</td>\n",
       "      <td>0</td>\n",
       "      <td>0</td>\n",
       "      <td>1</td>\n",
       "      <td>0</td>\n",
       "      <td>1</td>\n",
       "    </tr>\n",
       "    <tr>\n",
       "      <th>83</th>\n",
       "      <td>1255794072280842240</td>\n",
       "      <td>Heavy Mental</td>\n",
       "      <td>HeavyMental_es</td>\n",
       "      <td>1541403726182858753</td>\n",
       "      <td>@joobid @TheBridge_Tech @Recuenco @GuillermoDe...</td>\n",
       "      <td>2027-06-22</td>\n",
       "      <td>1255794072280842240</td>\n",
       "      <td>0</td>\n",
       "      <td>1</td>\n",
       "      <td>1</td>\n",
       "      <td>0</td>\n",
       "      <td>2</td>\n",
       "    </tr>\n",
       "    <tr>\n",
       "      <th>84</th>\n",
       "      <td>1255794072280842240</td>\n",
       "      <td>Heavy Mental</td>\n",
       "      <td>HeavyMental_es</td>\n",
       "      <td>1541334998892036096</td>\n",
       "      <td>@jatorrero @TheBridge_Tech Juan Antonio, te ma...</td>\n",
       "      <td>2027-06-22</td>\n",
       "      <td>1255794072280842240</td>\n",
       "      <td>0</td>\n",
       "      <td>1</td>\n",
       "      <td>2</td>\n",
       "      <td>0</td>\n",
       "      <td>3</td>\n",
       "    </tr>\n",
       "    <tr>\n",
       "      <th>85</th>\n",
       "      <td>1255794072280842240</td>\n",
       "      <td>Heavy Mental</td>\n",
       "      <td>HeavyMental_es</td>\n",
       "      <td>1541297237485035520</td>\n",
       "      <td>@navarro_batista @TheBridge_Tech En orbyt ya s...</td>\n",
       "      <td>2027-06-22</td>\n",
       "      <td>1255794072280842240</td>\n",
       "      <td>0</td>\n",
       "      <td>1</td>\n",
       "      <td>1</td>\n",
       "      <td>0</td>\n",
       "      <td>2</td>\n",
       "    </tr>\n",
       "    <tr>\n",
       "      <th>86</th>\n",
       "      <td>1255794072280842240</td>\n",
       "      <td>Heavy Mental</td>\n",
       "      <td>HeavyMental_es</td>\n",
       "      <td>1541062348970115072</td>\n",
       "      <td>@CarlosLGonzalez @TheBridge_Tech Yes, segurame...</td>\n",
       "      <td>2026-06-22</td>\n",
       "      <td>1255794072280842240</td>\n",
       "      <td>0</td>\n",
       "      <td>0</td>\n",
       "      <td>2</td>\n",
       "      <td>0</td>\n",
       "      <td>2</td>\n",
       "    </tr>\n",
       "    <tr>\n",
       "      <th>87</th>\n",
       "      <td>1255794072280842240</td>\n",
       "      <td>Heavy Mental</td>\n",
       "      <td>HeavyMental_es</td>\n",
       "      <td>1541060983476584448</td>\n",
       "      <td>@CarlosLGonzalez @TheBridge_Tech Sí, vida real...</td>\n",
       "      <td>2026-06-22</td>\n",
       "      <td>1255794072280842240</td>\n",
       "      <td>0</td>\n",
       "      <td>1</td>\n",
       "      <td>1</td>\n",
       "      <td>0</td>\n",
       "      <td>2</td>\n",
       "    </tr>\n",
       "    <tr>\n",
       "      <th>88</th>\n",
       "      <td>1255794072280842240</td>\n",
       "      <td>Heavy Mental</td>\n",
       "      <td>HeavyMental_es</td>\n",
       "      <td>1541046264539893760</td>\n",
       "      <td>🕣 TIC, TAC: MAÑANA os vemos a todos a las 7.30...</td>\n",
       "      <td>2026-06-22</td>\n",
       "      <td>1255794072280842240</td>\n",
       "      <td>6</td>\n",
       "      <td>6</td>\n",
       "      <td>17</td>\n",
       "      <td>1</td>\n",
       "      <td>30</td>\n",
       "    </tr>\n",
       "    <tr>\n",
       "      <th>89</th>\n",
       "      <td>1255794072280842240</td>\n",
       "      <td>Heavy Mental</td>\n",
       "      <td>HeavyMental_es</td>\n",
       "      <td>1536310702876549123</td>\n",
       "      <td>Lo prometimos y han llegado gracias a @TheBrid...</td>\n",
       "      <td>2013-06-22</td>\n",
       "      <td>1255794072280842240</td>\n",
       "      <td>2</td>\n",
       "      <td>4</td>\n",
       "      <td>6</td>\n",
       "      <td>0</td>\n",
       "      <td>12</td>\n",
       "    </tr>\n",
       "  </tbody>\n",
       "</table>\n",
       "</div>"
      ],
      "text/plain": [
       "                id_user     name_user   username_user             id_tweet  \\\n",
       "78  1255794072280842240  Heavy Mental  HeavyMental_es  1542224482710028291   \n",
       "79  1255794072280842240  Heavy Mental  HeavyMental_es  1542206287915585536   \n",
       "80  1255794072280842240  Heavy Mental  HeavyMental_es  1541690507600056320   \n",
       "81  1255794072280842240  Heavy Mental  HeavyMental_es  1541558488001822725   \n",
       "82  1255794072280842240  Heavy Mental  HeavyMental_es  1541445192925978625   \n",
       "83  1255794072280842240  Heavy Mental  HeavyMental_es  1541403726182858753   \n",
       "84  1255794072280842240  Heavy Mental  HeavyMental_es  1541334998892036096   \n",
       "85  1255794072280842240  Heavy Mental  HeavyMental_es  1541297237485035520   \n",
       "86  1255794072280842240  Heavy Mental  HeavyMental_es  1541062348970115072   \n",
       "87  1255794072280842240  Heavy Mental  HeavyMental_es  1541060983476584448   \n",
       "88  1255794072280842240  Heavy Mental  HeavyMental_es  1541046264539893760   \n",
       "89  1255794072280842240  Heavy Mental  HeavyMental_es  1536310702876549123   \n",
       "\n",
       "                                        mensaje_tweet fecha_tweet  \\\n",
       "78  @carlosmdh @UbaldoHervas @DavidAlayon @Recuenc...  2029-06-22   \n",
       "79  El sentido de la vida ya no es 42 -- Light Men...  2029-06-22   \n",
       "80  @Mulder01198676 @PauMugarra @DavidAlayon @Recu...  2028-06-22   \n",
       "81  @Bombabarros @Mulder01198676 @_miki @Recuenco ...  2027-06-22   \n",
       "82  @vmcasamayor @TheBridge_Tech @Recuenco @Alient...  2027-06-22   \n",
       "83  @joobid @TheBridge_Tech @Recuenco @GuillermoDe...  2027-06-22   \n",
       "84  @jatorrero @TheBridge_Tech Juan Antonio, te ma...  2027-06-22   \n",
       "85  @navarro_batista @TheBridge_Tech En orbyt ya s...  2027-06-22   \n",
       "86  @CarlosLGonzalez @TheBridge_Tech Yes, segurame...  2026-06-22   \n",
       "87  @CarlosLGonzalez @TheBridge_Tech Sí, vida real...  2026-06-22   \n",
       "88  🕣 TIC, TAC: MAÑANA os vemos a todos a las 7.30...  2026-06-22   \n",
       "89  Lo prometimos y han llegado gracias a @TheBrid...  2013-06-22   \n",
       "\n",
       "           author_tweet  retweet_count  reply_count  like_count  quote_count  \\\n",
       "78  1255794072280842240              0            1           3            0   \n",
       "79  1255794072280842240              3            2          22            3   \n",
       "80  1255794072280842240              0            1           1            0   \n",
       "81  1255794072280842240              0            0           3            0   \n",
       "82  1255794072280842240              0            0           1            0   \n",
       "83  1255794072280842240              0            1           1            0   \n",
       "84  1255794072280842240              0            1           2            0   \n",
       "85  1255794072280842240              0            1           1            0   \n",
       "86  1255794072280842240              0            0           2            0   \n",
       "87  1255794072280842240              0            1           1            0   \n",
       "88  1255794072280842240              6            6          17            1   \n",
       "89  1255794072280842240              2            4           6            0   \n",
       "\n",
       "    repercusion  \n",
       "78            4  \n",
       "79           30  \n",
       "80            2  \n",
       "81            3  \n",
       "82            1  \n",
       "83            2  \n",
       "84            3  \n",
       "85            2  \n",
       "86            2  \n",
       "87            2  \n",
       "88           30  \n",
       "89           12  "
      ]
     },
     "execution_count": 57,
     "metadata": {},
     "output_type": "execute_result"
    }
   ],
   "source": [
    "data[data[\"username_user\"] == data[\"username_user\"].value_counts().index[0]]"
   ]
  },
  {
   "cell_type": "markdown",
   "metadata": {},
   "source": [
    "## C. ¿En qué mes se concentra el mayor número de tweets?"
   ]
  },
  {
   "cell_type": "code",
   "execution_count": 58,
   "metadata": {},
   "outputs": [
    {
     "data": {
      "text/plain": [
       "6"
      ]
     },
     "execution_count": 58,
     "metadata": {},
     "output_type": "execute_result"
    }
   ],
   "source": [
    "data[\"fecha_tweet\"].dt.month.value_counts().index[0]"
   ]
  },
  {
   "cell_type": "markdown",
   "metadata": {},
   "source": [
    "## D . ¿Qué palabras son más frecuentes?"
   ]
  },
  {
   "cell_type": "code",
   "execution_count": 59,
   "metadata": {},
   "outputs": [],
   "source": [
    "from sklearn.feature_extraction.text import CountVectorizer"
   ]
  },
  {
   "cell_type": "code",
   "execution_count": 60,
   "metadata": {},
   "outputs": [],
   "source": [
    "vectorizer = CountVectorizer()"
   ]
  },
  {
   "cell_type": "code",
   "execution_count": 61,
   "metadata": {},
   "outputs": [],
   "source": [
    "mensaje_tweet = vectorizer.fit_transform(data[\"mensaje_tweet\"])"
   ]
  },
  {
   "cell_type": "code",
   "execution_count": 62,
   "metadata": {},
   "outputs": [
    {
     "data": {
      "text/plain": [
       "array(['00', '000', '001', ..., '𝗗𝗲𝘀𝗮𝗳𝗶𝗼', '𝗱𝗲', '𝘁𝗿𝗶𝗽𝘂𝗹𝗮𝗰𝗶𝗼𝗻𝗲𝘀'],\n",
       "      dtype=object)"
      ]
     },
     "execution_count": 62,
     "metadata": {},
     "output_type": "execute_result"
    }
   ],
   "source": [
    "vectorizer.get_feature_names_out()"
   ]
  },
  {
   "cell_type": "code",
   "execution_count": 67,
   "metadata": {},
   "outputs": [
    {
     "data": {
      "text/plain": [
       "'último'"
      ]
     },
     "execution_count": 67,
     "metadata": {},
     "output_type": "execute_result"
    }
   ],
   "source": [
    "pd.DataFrame(vectorizer.vocabulary_, index = [0]).iloc[0].sort_values(ascending = False).index[3]"
   ]
  },
  {
   "cell_type": "code",
   "execution_count": 64,
   "metadata": {},
   "outputs": [
    {
     "data": {
      "text/html": [
       "<div>\n",
       "<style scoped>\n",
       "    .dataframe tbody tr th:only-of-type {\n",
       "        vertical-align: middle;\n",
       "    }\n",
       "\n",
       "    .dataframe tbody tr th {\n",
       "        vertical-align: top;\n",
       "    }\n",
       "\n",
       "    .dataframe thead th {\n",
       "        text-align: right;\n",
       "    }\n",
       "</style>\n",
       "<table border=\"1\" class=\"dataframe\">\n",
       "  <thead>\n",
       "    <tr style=\"text-align: right;\">\n",
       "      <th></th>\n",
       "      <th>recordaros</th>\n",
       "      <th>que</th>\n",
       "      <th>la</th>\n",
       "      <th>semana</th>\n",
       "      <th>viene</th>\n",
       "      <th>tenemos</th>\n",
       "      <th>primera</th>\n",
       "      <th>quedada</th>\n",
       "      <th>cps</th>\n",
       "      <th>en</th>\n",
       "      <th>...</th>\n",
       "      <th>3h</th>\n",
       "      <th>sueltas</th>\n",
       "      <th>lunes</th>\n",
       "      <th>haya</th>\n",
       "      <th>pillado</th>\n",
       "      <th>xdd</th>\n",
       "      <th>tocará</th>\n",
       "      <th>esperarme</th>\n",
       "      <th>conseguí</th>\n",
       "      <th>socclkt3dg</th>\n",
       "    </tr>\n",
       "  </thead>\n",
       "  <tbody>\n",
       "    <tr>\n",
       "      <th>0</th>\n",
       "      <td>953</td>\n",
       "      <td>924</td>\n",
       "      <td>638</td>\n",
       "      <td>1012</td>\n",
       "      <td>1202</td>\n",
       "      <td>1096</td>\n",
       "      <td>886</td>\n",
       "      <td>926</td>\n",
       "      <td>243</td>\n",
       "      <td>371</td>\n",
       "      <td>...</td>\n",
       "      <td>27</td>\n",
       "      <td>1055</td>\n",
       "      <td>681</td>\n",
       "      <td>542</td>\n",
       "      <td>847</td>\n",
       "      <td>1230</td>\n",
       "      <td>1118</td>\n",
       "      <td>402</td>\n",
       "      <td>227</td>\n",
       "      <td>1037</td>\n",
       "    </tr>\n",
       "  </tbody>\n",
       "</table>\n",
       "<p>1 rows × 1262 columns</p>\n",
       "</div>"
      ],
      "text/plain": [
       "   recordaros  que   la  semana  viene  tenemos  primera  quedada  cps   en  \\\n",
       "0         953  924  638    1012   1202     1096      886      926  243  371   \n",
       "\n",
       "   ...  3h  sueltas  lunes  haya  pillado   xdd  tocará  esperarme  conseguí  \\\n",
       "0  ...  27     1055    681   542      847  1230    1118        402       227   \n",
       "\n",
       "   socclkt3dg  \n",
       "0        1037  \n",
       "\n",
       "[1 rows x 1262 columns]"
      ]
     },
     "execution_count": 64,
     "metadata": {},
     "output_type": "execute_result"
    }
   ],
   "source": [
    "pd.DataFrame(vectorizer.vocabulary_, index = [0])"
   ]
  },
  {
   "cell_type": "markdown",
   "metadata": {},
   "source": [
    "## E. ¿Qué tipo de correlación matemática encuentras en las métricas públicas?"
   ]
  },
  {
   "cell_type": "code",
   "execution_count": 68,
   "metadata": {},
   "outputs": [],
   "source": [
    "import seaborn as sns\n",
    "import matplotlib.pyplot as plt"
   ]
  },
  {
   "cell_type": "code",
   "execution_count": 69,
   "metadata": {},
   "outputs": [
    {
     "data": {
      "text/plain": [
       "Index(['id_user', 'name_user', 'username_user', 'id_tweet', 'mensaje_tweet',\n",
       "       'fecha_tweet', 'author_tweet', 'retweet_count', 'reply_count',\n",
       "       'like_count', 'quote_count', 'repercusion'],\n",
       "      dtype='object')"
      ]
     },
     "execution_count": 69,
     "metadata": {},
     "output_type": "execute_result"
    }
   ],
   "source": [
    "data.columns"
   ]
  },
  {
   "cell_type": "code",
   "execution_count": 80,
   "metadata": {},
   "outputs": [
    {
     "data": {
      "text/plain": [
       "(array([0.5, 1.5, 2.5, 3.5]),\n",
       " [Text(0, 0.5, 'retweet_count'),\n",
       "  Text(0, 1.5, 'reply_count'),\n",
       "  Text(0, 2.5, 'like_count'),\n",
       "  Text(0, 3.5, 'quote_count')])"
      ]
     },
     "execution_count": 80,
     "metadata": {},
     "output_type": "execute_result"
    },
    {
     "data": {
      "image/png": "[encoded data removed]",
      "text/plain": [
       "<Figure size 1080x864 with 2 Axes>"
      ]
     },
     "metadata": {
      "needs_background": "light"
     },
     "output_type": "display_data"
    }
   ],
   "source": [
    "plt.figure(figsize = (15,12))\n",
    "sns.heatmap(data[[\"retweet_count\", \"reply_count\", \"like_count\", \"quote_count\"]].corr(), annot = True, annot_kws = {\"size\":30})\n",
    "plt.xticks(fontsize = 20)\n",
    "plt.yticks(fontsize = 20)"
   ]
  },
  {
   "cell_type": "code",
   "execution_count": 90,
   "metadata": {},
   "outputs": [
    {
     "name": "stderr",
     "output_type": "stream",
     "text": [
      "c:\\Users\\tonim\\AppData\\Local\\Programs\\Python\\Python37\\lib\\site-packages\\seaborn\\_decorators.py:43: FutureWarning: Pass the following variables as keyword args: x, y. From version 0.12, the only valid positional argument will be `data`, and passing other arguments without an explicit keyword will result in an error or misinterpretation.\n",
      "  FutureWarning\n",
      "c:\\Users\\tonim\\AppData\\Local\\Programs\\Python\\Python37\\lib\\site-packages\\seaborn\\_decorators.py:43: FutureWarning: Pass the following variables as keyword args: x, y. From version 0.12, the only valid positional argument will be `data`, and passing other arguments without an explicit keyword will result in an error or misinterpretation.\n",
      "  FutureWarning\n",
      "c:\\Users\\tonim\\AppData\\Local\\Programs\\Python\\Python37\\lib\\site-packages\\seaborn\\_decorators.py:43: FutureWarning: Pass the following variables as keyword args: x, y. From version 0.12, the only valid positional argument will be `data`, and passing other arguments without an explicit keyword will result in an error or misinterpretation.\n",
      "  FutureWarning\n",
      "c:\\Users\\tonim\\AppData\\Local\\Programs\\Python\\Python37\\lib\\site-packages\\seaborn\\_decorators.py:43: FutureWarning: Pass the following variables as keyword args: x, y. From version 0.12, the only valid positional argument will be `data`, and passing other arguments without an explicit keyword will result in an error or misinterpretation.\n",
      "  FutureWarning\n",
      "c:\\Users\\tonim\\AppData\\Local\\Programs\\Python\\Python37\\lib\\site-packages\\seaborn\\_decorators.py:43: FutureWarning: Pass the following variables as keyword args: x, y. From version 0.12, the only valid positional argument will be `data`, and passing other arguments without an explicit keyword will result in an error or misinterpretation.\n",
      "  FutureWarning\n",
      "c:\\Users\\tonim\\AppData\\Local\\Programs\\Python\\Python37\\lib\\site-packages\\seaborn\\_decorators.py:43: FutureWarning: Pass the following variables as keyword args: x, y. From version 0.12, the only valid positional argument will be `data`, and passing other arguments without an explicit keyword will result in an error or misinterpretation.\n",
      "  FutureWarning\n"
     ]
    },
    {
     "data": {
      "text/plain": [
       "Text(0, 0.5, 'quote_count')"
      ]
     },
     "execution_count": 90,
     "metadata": {},
     "output_type": "execute_result"
    },
    {
     "data": {
      "image/png": "[encoded data removed]",
      "text/plain": [
       "<Figure size 1440x720 with 6 Axes>"
      ]
     },
     "metadata": {
      "needs_background": "light"
     },
     "output_type": "display_data"
    }
   ],
   "source": [
    "plt.figure(figsize = (20,10));\n",
    "plt.subplot(2,3,1);\n",
    "sns.scatterplot(data[\"retweet_count\"], data[\"reply_count\"]);\n",
    "plt.xticks(fontsize = 15)\n",
    "plt.yticks(fontsize = 15)\n",
    "plt.xlabel('retweet_count', fontsize=15)\n",
    "plt.ylabel('reply_count', fontsize=15)\n",
    "plt.subplot(2,3,2);\n",
    "sns.scatterplot(data[\"retweet_count\"], data[\"like_count\"]);\n",
    "plt.xticks(fontsize = 15)\n",
    "plt.yticks(fontsize = 15)\n",
    "plt.xlabel('retweet_count', fontsize=15)\n",
    "plt.ylabel('like_count', fontsize=15)\n",
    "plt.subplot(2,3,3);\n",
    "sns.scatterplot(data[\"retweet_count\"], data[\"quote_count\"]);\n",
    "plt.xticks(fontsize = 15)\n",
    "plt.yticks(fontsize = 15)\n",
    "plt.xlabel('retweet_count', fontsize=15)\n",
    "plt.ylabel('quote_count', fontsize=15)\n",
    "plt.subplot(2,3,4);\n",
    "sns.scatterplot(data[\"reply_count\"], data[\"like_count\"]);\n",
    "plt.xticks(fontsize = 15)\n",
    "plt.yticks(fontsize = 15)\n",
    "plt.xlabel('reply_count', fontsize=15)\n",
    "plt.ylabel('like_count', fontsize=15)\n",
    "plt.subplot(2,3,5);\n",
    "sns.scatterplot(data[\"reply_count\"], data[\"quote_count\"]);\n",
    "plt.xticks(fontsize = 15)\n",
    "plt.yticks(fontsize = 15)\n",
    "plt.xlabel('reply_count', fontsize=15)\n",
    "plt.ylabel('quote_count', fontsize=15)\n",
    "plt.subplot(2,3,6);\n",
    "sns.scatterplot(data[\"like_count\"], data[\"quote_count\"]);\n",
    "plt.xticks(fontsize = 15)\n",
    "plt.yticks(fontsize = 15)\n",
    "plt.xlabel('like_count', fontsize=15)\n",
    "plt.ylabel('quote_count', fontsize=15)\n"
   ]
  },
  {
   "cell_type": "markdown",
   "metadata": {},
   "source": [
    "## F. ¿Has sacado alguna conclusión extra en tu análisis?"
   ]
  },
  {
   "cell_type": "markdown",
   "metadata": {},
   "source": [
    "# MODELO"
   ]
  },
  {
   "cell_type": "code",
   "execution_count": 92,
   "metadata": {},
   "outputs": [],
   "source": [
    "import pickle"
   ]
  },
  {
   "cell_type": "code",
   "execution_count": 93,
   "metadata": {},
   "outputs": [],
   "source": [
    "with open(\"sentiment_model\", \"rb\") as f:\n",
    "    modelo = pickle.load(f)"
   ]
  },
  {
   "cell_type": "markdown",
   "metadata": {},
   "source": [
    "### Ejemplos predicciones"
   ]
  },
  {
   "cell_type": "code",
   "execution_count": 94,
   "metadata": {},
   "outputs": [
    {
     "data": {
      "text/plain": [
       "'Recordaros que la semana que viene tenemos la primera quedada #CPS en Madrid, en @TheBridge_Tech, en el que tendremos la gran suerte de contar con @Recuenco para que nos dé una charla. Las plazas se han agotado, pero os podéis apuntar al grupo para próximas quedadas 🚀'"
      ]
     },
     "execution_count": 94,
     "metadata": {},
     "output_type": "execute_result"
    }
   ],
   "source": [
    "data[\"mensaje_tweet\"][0]"
   ]
  },
  {
   "cell_type": "code",
   "execution_count": 122,
   "metadata": {},
   "outputs": [
    {
     "data": {
      "text/plain": [
       "array([1, 1, 1, 1, 0, 0, 0, 1, 0, 1], dtype=int64)"
      ]
     },
     "execution_count": 122,
     "metadata": {},
     "output_type": "execute_result"
    }
   ],
   "source": [
    "modelo.predict(data[\"mensaje_tweet\"][:0])"
   ]
  },
  {
   "cell_type": "code",
   "execution_count": 121,
   "metadata": {},
   "outputs": [
    {
     "data": {
      "text/plain": [
       "'@jorgegrev @TheBridge_Tech Enhorabuena crack!'"
      ]
     },
     "execution_count": 121,
     "metadata": {},
     "output_type": "execute_result"
    }
   ],
   "source": [
    "data[\"mensaje_tweet\"][:5][4]"
   ]
  },
  {
   "cell_type": "code",
   "execution_count": 126,
   "metadata": {},
   "outputs": [
    {
     "data": {
      "text/plain": [
       "'@valerybriz @graphext @TheBridge_Tech Hemos llenado el aforo ⚠️ pero ¡aún estás a tiempo de apuntarte a la lista de espera! ¡Nos vemos el jueves!'"
      ]
     },
     "execution_count": 126,
     "metadata": {},
     "output_type": "execute_result"
    }
   ],
   "source": [
    "data[\"mensaje_tweet\"][9]"
   ]
  },
  {
   "cell_type": "markdown",
   "metadata": {},
   "source": [
    "## feature importance"
   ]
  },
  {
   "cell_type": "code",
   "execution_count": null,
   "metadata": {},
   "outputs": [],
   "source": [
    "modelo[\"vect\"].vocabulary_"
   ]
  },
  {
   "cell_type": "code",
   "execution_count": 98,
   "metadata": {},
   "outputs": [],
   "source": [
    "coef = np.abs(modelo[\"cls\"].coef_[0])"
   ]
  },
  {
   "cell_type": "code",
   "execution_count": 99,
   "metadata": {},
   "outputs": [],
   "source": [
    "coef = np.sort(np.abs(modelo[\"cls\"].coef_[0]))[-7:]"
   ]
  },
  {
   "cell_type": "code",
   "execution_count": 100,
   "metadata": {},
   "outputs": [],
   "source": [
    "indice_coef = []"
   ]
  },
  {
   "cell_type": "code",
   "execution_count": 101,
   "metadata": {},
   "outputs": [],
   "source": [
    "for x in np.sort(np.abs(modelo[\"cls\"].coef_[0]))[-7:]:\n",
    "    indice_coef.append(list(coef).index(x))"
   ]
  },
  {
   "cell_type": "code",
   "execution_count": 102,
   "metadata": {},
   "outputs": [
    {
     "data": {
      "text/plain": [
       "[0, 1, 2, 3, 4, 5, 6]"
      ]
     },
     "execution_count": 102,
     "metadata": {},
     "output_type": "execute_result"
    }
   ],
   "source": [
    "indice_coef"
   ]
  },
  {
   "cell_type": "code",
   "execution_count": 103,
   "metadata": {},
   "outputs": [],
   "source": [
    "nombres_indice = []"
   ]
  },
  {
   "cell_type": "code",
   "execution_count": 104,
   "metadata": {},
   "outputs": [],
   "source": [
    "for x in indice_coef:\n",
    "    nombres_indice.append(list(modelo[\"vect\"].vocabulary_)[x])"
   ]
  },
  {
   "cell_type": "code",
   "execution_count": 105,
   "metadata": {},
   "outputs": [
    {
     "data": {
      "text/plain": [
       "['graci', 'mar', 'pens', 'va', 'van', 'intent', 'sac']"
      ]
     },
     "execution_count": 105,
     "metadata": {},
     "output_type": "execute_result"
    }
   ],
   "source": [
    "nombres_indice"
   ]
  },
  {
   "cell_type": "code",
   "execution_count": 106,
   "metadata": {},
   "outputs": [],
   "source": [
    "nombres_indice_reversed = []\n",
    "coef_reversed = []"
   ]
  },
  {
   "cell_type": "code",
   "execution_count": 107,
   "metadata": {},
   "outputs": [],
   "source": [
    "for x in reversed(nombres_indice):\n",
    "    nombres_indice_reversed.append(x)\n",
    "for x in reversed(coef):\n",
    "    coef_reversed.append(x)"
   ]
  },
  {
   "cell_type": "code",
   "execution_count": 113,
   "metadata": {},
   "outputs": [
    {
     "data": {
      "image/png": "[encoded data removed]",
      "text/plain": [
       "<Figure size 1080x576 with 1 Axes>"
      ]
     },
     "metadata": {
      "needs_background": "light"
     },
     "output_type": "display_data"
    }
   ],
   "source": [
    "plt.figure(figsize = (15,8))\n",
    "sns.barplot(x = nombres_indice_reversed, y = coef_reversed)\n",
    "plt.xticks(fontsize = 15);\n",
    "plt.yticks(fontsize = 15);"
   ]
  },
  {
   "cell_type": "markdown",
   "metadata": {},
   "source": [
    "## > El modelo se podría mejorar añadiendo variables que valoren grupos de palabras, eliminando las variables que representan palabras sin importancia, como determinantes, conjunciones, preposiciones, eliminando la distincion entre plurales, singulares y tiempos verbales.\n",
    "\n",
    "## > El machine learning se podría aplicar por ejemplo a intentar predecir cuanta repercusión tendrá un tweet teniendo en cuenta los likes y retweets o qué tweet le va a gustar a una clase concreta de perfiles o los espacios le puede gustar."
   ]
  },
  {
   "cell_type": "code",
   "execution_count": null,
   "metadata": {},
   "outputs": [],
   "source": []
  }
 ],
 "metadata": {
  "kernelspec": {
   "display_name": "Python 3.7.4 64-bit",
   "language": "python",
   "name": "python3"
  },
  "language_info": {
   "codemirror_mode": {
    "name": "ipython",
    "version": 3
   },
   "file_extension": ".py",
   "mimetype": "text/x-python",
   "name": "python",
   "nbconvert_exporter": "python",
   "pygments_lexer": "ipython3",
   "version": "3.7.4"
  },
  "orig_nbformat": 4,
  "vscode": {
   "interpreter": {
    "hash": "6d128f9f649f5675aa9c03abef03d58b028ea46b9880149910e4a6a1e3e34976"
   }
  }
 },
 "nbformat": 4,
 "nbformat_minor": 2
}
